{
  "cells": [
    {
      "cell_type": "markdown",
      "metadata": {
        "id": "YMWwam2U7u4C"
      },
      "source": [
        "## Python Class 1 - command to execute is shift+enter"
      ]
    },
    {
      "cell_type": "markdown",
      "metadata": {
        "id": "ztcKyVtm8bg6"
      },
      "source": [
        "## Comments in Python"
      ]
    },
    {
      "cell_type": "code",
      "execution_count": null,
      "metadata": {
        "colab": {
          "base_uri": "https://localhost:8080/",
          "height": 35
        },
        "id": "vMHNqh-Y8bI1",
        "outputId": "10968b2d-1133-494e-efdd-986d9344edcc"
      },
      "outputs": [
        {
          "data": {
            "application/vnd.google.colaboratory.intrinsic+json": {
              "type": "string"
            },
            "text/plain": [
              "'\\nMUltiline comments\\n'"
            ]
          },
          "execution_count": 1,
          "metadata": {},
          "output_type": "execute_result"
        }
      ],
      "source": [
        "# Comment means an non executable code\n",
        "\n",
        "# Single line comment\n",
        "\n",
        "'''\n",
        "MUltiline comments\n",
        "'''\n"
      ]
    },
    {
      "cell_type": "markdown",
      "metadata": {
        "id": "IaCUXPqiG5Lq"
      },
      "source": [
        "## Print functions in Python"
      ]
    },
    {
      "cell_type": "code",
      "execution_count": null,
      "metadata": {
        "colab": {
          "base_uri": "https://localhost:8080/"
        },
        "id": "9cvKyTyfG8uu",
        "outputId": "9f44bb84-e08c-4572-b5d2-81c981d3f454"
      },
      "outputs": [
        {
          "name": "stdout",
          "output_type": "stream",
          "text": [
            "Hello World\n"
          ]
        }
      ],
      "source": [
        "\n",
        "#keywords are group of words that have a specific functionality\n",
        "print (\"Hello World\")"
      ]
    },
    {
      "cell_type": "code",
      "execution_count": null,
      "metadata": {
        "colab": {
          "base_uri": "https://localhost:8080/"
        },
        "id": "GJUXhPO8HSHZ",
        "outputId": "8f2304f9-2bca-48a0-c30d-c6158385e0e6"
      },
      "outputs": [
        {
          "name": "stdout",
          "output_type": "stream",
          "text": [
            "Python 3.10.12\n"
          ]
        }
      ],
      "source": [
        "#to check version of python\n",
        "!python --version"
      ]
    },
    {
      "cell_type": "code",
      "execution_count": null,
      "metadata": {
        "id": "zRDA2-w8Hvox"
      },
      "outputs": [],
      "source": [
        "'''\n",
        "Python is a interpretor.\n",
        "\n",
        "code -> Compiler/interpretor(Syntax check) -> MachineCode\n",
        "\n",
        "Compiler : Tries to execute the code at once\n",
        "Interpretor : tries to compile the code line by line\n",
        "'''"
      ]
    },
    {
      "cell_type": "markdown",
      "metadata": {
        "id": "tXp9IYQ1Cump"
      },
      "source": [
        "## Indentation"
      ]
    },
    {
      "cell_type": "code",
      "execution_count": null,
      "metadata": {
        "colab": {
          "base_uri": "https://localhost:8080/"
        },
        "id": "JjGdyaRSCfcl",
        "outputId": "19a2d176-9d16-4104-c2da-3b1b8571fc00"
      },
      "outputs": [
        {
          "name": "stdout",
          "output_type": "stream",
          "text": [
            "Five is greater than two\n"
          ]
        }
      ],
      "source": [
        "if 5 > 2:\n",
        "  print ('Five is greater than two')"
      ]
    },
    {
      "cell_type": "code",
      "execution_count": null,
      "metadata": {
        "colab": {
          "base_uri": "https://localhost:8080/"
        },
        "id": "4ho19yvFDmoy",
        "outputId": "2599ac60-cdd8-4b18-82e9-b9b7b112cd7a"
      },
      "outputs": [
        {
          "name": "stdout",
          "output_type": "stream",
          "text": [
            "hello\n",
            "hi\n",
            "1\n",
            "Five is greater than two\n"
          ]
        }
      ],
      "source": [
        "if 5 > 2:\n",
        "  print ('hello')\n",
        "  if 3 < 7:\n",
        "    print ('hi')\n",
        "    print ('1')\n",
        "\n",
        "print ('Five is greater than two')"
      ]
    },
    {
      "cell_type": "code",
      "execution_count": null,
      "metadata": {
        "colab": {
          "base_uri": "https://localhost:8080/",
          "height": 35
        },
        "id": "v98746mnDvRf",
        "outputId": "a31495ee-7707-400d-bc5e-e91f547b61d4"
      },
      "outputs": [
        {
          "data": {
            "application/vnd.google.colaboratory.intrinsic+json": {
              "type": "string"
            },
            "text/plain": [
              "'\\nThis is Ajay\\nDataScientist at DELL\\n'"
            ]
          },
          "execution_count": 5,
          "metadata": {},
          "output_type": "execute_result"
        }
      ],
      "source": [
        "# This is a python class\n",
        "\n",
        "'''\n",
        "This is Ajay\n",
        "DataScientist at DELL\n",
        "'''"
      ]
    },
    {
      "cell_type": "markdown",
      "metadata": {
        "id": "Wj5AmTEPFo4m"
      },
      "source": [
        "## Variables"
      ]
    },
    {
      "cell_type": "code",
      "execution_count": null,
      "metadata": {
        "colab": {
          "base_uri": "https://localhost:8080/"
        },
        "id": "TSt7tGTwFWV7",
        "outputId": "96bdf51f-3368-4f1b-af5a-daed64bb0dfa"
      },
      "outputs": [
        {
          "name": "stdout",
          "output_type": "stream",
          "text": [
            "5\n",
            "King\n"
          ]
        }
      ],
      "source": [
        "#variables are something that tend to change\n",
        "x = 5\n",
        "y = \"King\" # all the words or sentences should be in \"\"\n",
        "print (x)\n",
        "print (y)"
      ]
    },
    {
      "cell_type": "code",
      "execution_count": null,
      "metadata": {
        "colab": {
          "base_uri": "https://localhost:8080/"
        },
        "id": "TjpMOYAOGC_-",
        "outputId": "7ea85d7d-08ff-4fc1-9899-e872484c8dbd"
      },
      "outputs": [
        {
          "name": "stdout",
          "output_type": "stream",
          "text": [
            "5\n",
            "Ram\n"
          ]
        }
      ],
      "source": [
        "#variable values can be replaced\n",
        "x = 5\n",
        "print (x)\n",
        "x = 'Ram'\n",
        "1print (x)"
      ]
    },
    {
      "cell_type": "code",
      "execution_count": null,
      "metadata": {
        "colab": {
          "base_uri": "https://localhost:8080/"
        },
        "id": "4lzpz9ITGtrk",
        "outputId": "b0b703f7-46a2-4b5c-c07f-9a89d554915e"
      },
      "outputs": [
        {
          "name": "stdout",
          "output_type": "stream",
          "text": [
            "Hello world\n"
          ]
        }
      ],
      "source": [
        "x = 10\n",
        "if x > 5:\n",
        "  print ('Hello world')"
      ]
    },
    {
      "cell_type": "markdown",
      "metadata": {
        "id": "SeX-_nX_HKSx"
      },
      "source": [
        "## Casting"
      ]
    },
    {
      "cell_type": "code",
      "execution_count": null,
      "metadata": {
        "colab": {
          "base_uri": "https://localhost:8080/"
        },
        "id": "lB9fkOidG_rr",
        "outputId": "919a9985-f630-40b6-c1c6-96d5d2b83102"
      },
      "outputs": [
        {
          "name": "stdout",
          "output_type": "stream",
          "text": [
            "<class 'int'>\n"
          ]
        }
      ],
      "source": [
        "x = 3\n",
        "print (type(x)) # type is the keyword to find the datatype in python"
      ]
    },
    {
      "cell_type": "code",
      "execution_count": null,
      "metadata": {
        "id": "LfFD0jtjHmsV"
      },
      "outputs": [],
      "source": [
        "x = int(3)\n",
        "x = str(3)\n",
        "x = float(3)"
      ]
    },
    {
      "cell_type": "code",
      "execution_count": null,
      "metadata": {
        "colab": {
          "base_uri": "https://localhost:8080/"
        },
        "id": "G0wH8U-sH0VW",
        "outputId": "9505c2c7-4073-4029-c1da-5ae46b7b26a1"
      },
      "outputs": [
        {
          "data": {
            "text/plain": [
              "3.0"
            ]
          },
          "execution_count": 11,
          "metadata": {},
          "output_type": "execute_result"
        }
      ],
      "source": [
        "x"
      ]
    },
    {
      "cell_type": "code",
      "execution_count": null,
      "metadata": {
        "colab": {
          "base_uri": "https://localhost:8080/"
        },
        "id": "aSlZxZNCH6SW",
        "outputId": "e63d6e97-7175-4b45-8c9d-7bed8aff1b51"
      },
      "outputs": [
        {
          "name": "stdout",
          "output_type": "stream",
          "text": [
            "100\n"
          ]
        }
      ],
      "source": [
        "# declare a variable x with 100 and convert it to string and print\n",
        "\n",
        "x = 100\n",
        "y = str(x)\n",
        "print (y)"
      ]
    },
    {
      "cell_type": "code",
      "execution_count": null,
      "metadata": {
        "colab": {
          "base_uri": "https://localhost:8080/",
          "height": 35
        },
        "id": "JzUnblL9IRF_",
        "outputId": "f8cc7c3d-297c-4da3-988d-3b43d5f53b95"
      },
      "outputs": [
        {
          "data": {
            "application/vnd.google.colaboratory.intrinsic+json": {
              "type": "string"
            },
            "text/plain": [
              "'100'"
            ]
          },
          "execution_count": 14,
          "metadata": {},
          "output_type": "execute_result"
        }
      ],
      "source": [
        "str(100)"
      ]
    },
    {
      "cell_type": "code",
      "execution_count": null,
      "metadata": {
        "id": "7s7qe7HRIYdT",
        "colab": {
          "base_uri": "https://localhost:8080/"
        },
        "outputId": "083c52ee-e5dc-4943-fb46-0ea62903207a"
      },
      "outputs": [
        {
          "output_type": "execute_result",
          "data": {
            "text/plain": [
              "str"
            ]
          },
          "metadata": {},
          "execution_count": 1
        }
      ],
      "source": [
        "x = \"John\"\n",
        "x = 'John'\n",
        "# python '' or \"\" mean the same\n",
        "type(x)"
      ]
    },
    {
      "cell_type": "code",
      "execution_count": null,
      "metadata": {
        "colab": {
          "base_uri": "https://localhost:8080/"
        },
        "id": "NsAgpFbRIwfI",
        "outputId": "16031be1-f7f9-4ebb-cbe1-9bc3d987cfbe"
      },
      "outputs": [
        {
          "name": "stdout",
          "output_type": "stream",
          "text": [
            "My name is Ajay\n"
          ]
        }
      ],
      "source": [
        "x = 'Ajay'\n",
        "if x == 'Ajay':\n",
        "  print ('My name is Ajay')"
      ]
    },
    {
      "cell_type": "code",
      "execution_count": null,
      "metadata": {
        "colab": {
          "base_uri": "https://localhost:8080/"
        },
        "id": "CRABbGhfJdrT",
        "outputId": "6bca2f1a-3cf7-4734-982b-84d67b4d402f"
      },
      "outputs": [
        {
          "name": "stdout",
          "output_type": "stream",
          "text": [
            "My name is Ajay\n"
          ]
        }
      ],
      "source": [
        "# formatting\n",
        "x = 'Ajay'\n",
        "if x == 'Ajay':\n",
        "  print (f'My name is {x}')"
      ]
    },
    {
      "cell_type": "code",
      "execution_count": null,
      "metadata": {
        "colab": {
          "base_uri": "https://localhost:8080/"
        },
        "id": "WLNgr6odJr5V",
        "outputId": "eb2bc0ea-aae9-46fd-c43d-d91f557ca61f"
      },
      "outputs": [
        {
          "name": "stdout",
          "output_type": "stream",
          "text": [
            "I boughts 40 apples and 20 oranges\n"
          ]
        }
      ],
      "source": [
        "apples = 40\n",
        "oranges = 20\n",
        "\n",
        "print (f'I boughts {apples} apples and {oranges} oranges')"
      ]
    },
    {
      "cell_type": "code",
      "execution_count": null,
      "metadata": {
        "id": "q2h0mpKjJ4gQ"
      },
      "outputs": [],
      "source": [
        "# Restrictions on how variable names are declared\n",
        "'''\n",
        "myvar,my_var,_my_var,myVar,MYVAR,myvar2 -- Legalones\n",
        "\n",
        "2myvar,my-var, my var\n",
        "'''"
      ]
    },
    {
      "cell_type": "code",
      "execution_count": null,
      "metadata": {
        "colab": {
          "base_uri": "https://localhost:8080/"
        },
        "id": "OqPUZRSJLqQa",
        "outputId": "fe9a5221-e13a-4eb9-c2ae-560d2de49d43"
      },
      "outputs": [
        {
          "name": "stdout",
          "output_type": "stream",
          "text": [
            "Orange\n",
            "Apple\n",
            "Banana\n"
          ]
        }
      ],
      "source": [
        "x, y, z = 'Orange','Apple','Banana' # Many values to many vaiables\n",
        "\n",
        "print (x)\n",
        "print (y)\n",
        "print (z)"
      ]
    },
    {
      "cell_type": "code",
      "execution_count": null,
      "metadata": {
        "colab": {
          "base_uri": "https://localhost:8080/"
        },
        "id": "PqE7ZwofMlNB",
        "outputId": "80e71a59-eb0e-4f0f-e066-7275af0618cd"
      },
      "outputs": [
        {
          "name": "stdout",
          "output_type": "stream",
          "text": [
            "Grapes\n",
            "Grapes\n",
            "Grapes\n"
          ]
        }
      ],
      "source": [
        "x = y = z = 'Grapes' #one value to multiple variables\n",
        "\n",
        "print (x)\n",
        "print (y)\n",
        "print (z)"
      ]
    },
    {
      "cell_type": "code",
      "execution_count": null,
      "metadata": {
        "colab": {
          "base_uri": "https://localhost:8080/"
        },
        "id": "7W2z8YYFM5Zf",
        "outputId": "08ee252b-e9e2-4682-f2dc-5da24e03556a"
      },
      "outputs": [
        {
          "name": "stdout",
          "output_type": "stream",
          "text": [
            "apple\n",
            "banana\n",
            "Mango\n"
          ]
        }
      ],
      "source": [
        "#unpack a collection\n",
        "\n",
        "fruits = ['apple','banana','Mango']\n",
        "x,y,z = fruits\n",
        "print (x)\n",
        "print (y)\n",
        "print (z)"
      ]
    },
    {
      "cell_type": "code",
      "execution_count": null,
      "metadata": {
        "id": "adDO4beENSYs"
      },
      "outputs": [],
      "source": [
        "# 1. create collection of 4 names and print using format\n",
        "# 2. Create a varibles names with 4 legal and 4 ilegal\n",
        "# 3. Declare same value to 3 vaiables and convert first variable to string, second to float and third to float. print all three variables"
      ]
    },
    {
      "cell_type": "code",
      "execution_count": null,
      "metadata": {
        "colab": {
          "base_uri": "https://localhost:8080/"
        },
        "id": "cVEi0uj1MHQn",
        "outputId": "ee982cc2-57c0-4439-9e70-a7687beb0ac3"
      },
      "outputs": [
        {
          "name": "stdout",
          "output_type": "stream",
          "text": [
            "The name is Ravi\n",
            "The name is Raju\n",
            "The name is Ram\n",
            "The name is Vinay\n"
          ]
        }
      ],
      "source": [
        "names = ['Ravi','Raju','Ram','Vinay']\n",
        "\n",
        "x,y,z,w = names\n",
        "\n",
        "print (f'The name is {x}')\n",
        "print (f'The name is {y}')\n",
        "print (f'The name is {z}')\n",
        "print (f'The name is {w}')"
      ]
    },
    {
      "cell_type": "code",
      "execution_count": null,
      "metadata": {
        "colab": {
          "base_uri": "https://localhost:8080/"
        },
        "id": "0RFBl0y6McCU",
        "outputId": "fb89d673-49cf-4e5d-dd48-ffa299dd4c09"
      },
      "outputs": [
        {
          "name": "stdout",
          "output_type": "stream",
          "text": [
            "3\n",
            "3.0\n",
            "3.0\n"
          ]
        }
      ],
      "source": [
        "x=y=z=3\n",
        "print (str(x))\n",
        "print (float(y))\n",
        "print (float(z))"
      ]
    },
    {
      "cell_type": "markdown",
      "metadata": {
        "id": "cscmXulLNQfU"
      },
      "source": [
        "# print function for multiple variables"
      ]
    },
    {
      "cell_type": "code",
      "execution_count": null,
      "metadata": {
        "colab": {
          "base_uri": "https://localhost:8080/"
        },
        "id": "Uz9zB0YgNAiJ",
        "outputId": "0747e088-63da-4199-9c43-c44bac7a1b48"
      },
      "outputs": [
        {
          "name": "stdout",
          "output_type": "stream",
          "text": [
            "Unitedstates\n",
            "United states\n",
            "United states\n"
          ]
        }
      ],
      "source": [
        "a = 'United' #string\n",
        "b = 'states' #string\n",
        "c = ' '\n",
        "print (a+b) #+ operator is used to concatenate two strings\n",
        "print (a+c+b)\n",
        "print (f'{a} {b}')"
      ]
    },
    {
      "cell_type": "code",
      "execution_count": null,
      "metadata": {
        "colab": {
          "base_uri": "https://localhost:8080/"
        },
        "id": "PC5NX6rYNeVa",
        "outputId": "abac54dd-4a20-41ea-b515-bc9685e718ac"
      },
      "outputs": [
        {
          "name": "stdout",
          "output_type": "stream",
          "text": [
            "I bought 4 apples\n"
          ]
        }
      ],
      "source": [
        "# Qustion is I bought 4 apples as varibales : Concatenate them\n",
        "\n",
        "x = 'I '\n",
        "y = 'bought '\n",
        "z = '4 '\n",
        "w = 'apples'\n",
        "\n",
        "print (x+y+z+w)"
      ]
    },
    {
      "cell_type": "markdown",
      "metadata": {
        "id": "29U4B3_KPORE"
      },
      "source": [
        "## Functions"
      ]
    },
    {
      "cell_type": "code",
      "execution_count": null,
      "metadata": {
        "id": "ivZCpN16OV3r"
      },
      "outputs": [],
      "source": [
        "'''\n",
        "Scenario : Addition of three numbers\n",
        "\n",
        "1,2,3\n",
        "4,5,6\n",
        "7,8,9\n",
        "'''"
      ]
    },
    {
      "cell_type": "code",
      "execution_count": null,
      "metadata": {
        "colab": {
          "base_uri": "https://localhost:8080/"
        },
        "id": "ie1vtSlKPgZI",
        "outputId": "00830659-7d0a-48d4-b77c-596e76bc2091"
      },
      "outputs": [
        {
          "name": "stdout",
          "output_type": "stream",
          "text": [
            "6\n",
            "15\n",
            "24\n"
          ]
        }
      ],
      "source": [
        "x = 1\n",
        "y = 2\n",
        "z = 3\n",
        "\n",
        "print (x+y+z)\n",
        "\n",
        "x = 4\n",
        "y = 5\n",
        "z = 6\n",
        "\n",
        "print (x+y+z)\n",
        "\n",
        "x = 7\n",
        "y = 8\n",
        "z = 9\n",
        "\n",
        "print (x+y+z)"
      ]
    },
    {
      "cell_type": "code",
      "execution_count": null,
      "metadata": {
        "colab": {
          "base_uri": "https://localhost:8080/"
        },
        "id": "CBwLTthXPtkn",
        "outputId": "ed588e31-a35c-47e5-bade-8c9f6c233357"
      },
      "outputs": [
        {
          "name": "stdout",
          "output_type": "stream",
          "text": [
            "6\n",
            "15\n",
            "24\n"
          ]
        }
      ],
      "source": [
        "def sum3(x,y,z): # def funcname(arguments) : Function creation\n",
        "  sum = x+y+z\n",
        "  return sum\n",
        "\n",
        "print (sum3(1,2,3)) # function calling\n",
        "print (sum3(4,5,6)) # function calling\n",
        "print (sum3(7,8,9)) # function calling"
      ]
    },
    {
      "cell_type": "code",
      "execution_count": null,
      "metadata": {
        "colab": {
          "base_uri": "https://localhost:8080/"
        },
        "id": "keyjssIqROuv",
        "outputId": "0b7b7ebf-0885-4b2d-df60-84da07b4c76e"
      },
      "outputs": [
        {
          "name": "stdout",
          "output_type": "stream",
          "text": [
            "Python is awesome\n"
          ]
        }
      ],
      "source": [
        "# declare a variable with a value awesome and create a function that prints \"Python is awesome\"\n",
        "\n",
        "def func1(a): #varibles that are there in the method are called local variables\n",
        "  x = 'fantastic'\n",
        "  print (f'Python is {a}')\n",
        "\n",
        "x = 'awesome' #varibles that are declared outside the method are called as global variables\n",
        "func1(x)"
      ]
    },
    {
      "cell_type": "code",
      "execution_count": null,
      "metadata": {
        "colab": {
          "base_uri": "https://localhost:8080/"
        },
        "id": "Hv0CXmPbSInx",
        "outputId": "f0353bcf-7286-40d8-cc80-9908c8d1db07"
      },
      "outputs": [
        {
          "name": "stdout",
          "output_type": "stream",
          "text": [
            "Python is awesome\n"
          ]
        }
      ],
      "source": [
        "variable = \"awesome\"\n",
        "def print_x(m):\n",
        "    print(\"Python is\",m)\n",
        "\n",
        "print_x(variable)"
      ]
    },
    {
      "cell_type": "code",
      "execution_count": null,
      "metadata": {
        "id": "mDdPlx6aTh69"
      },
      "outputs": [],
      "source": [
        "# python method to find sum and multiplication of three numbers\n",
        "# hint : methodname(2,3,4,'sum')\n",
        "\n",
        "def summul(a,b,c,operation):\n",
        "  if operation == 'sum':\n",
        "    ans = a+b+c\n",
        "\n",
        "  if operation == 'mul':\n",
        "    ans = a*b*c\n",
        "\n",
        "  return ans"
      ]
    },
    {
      "cell_type": "code",
      "execution_count": null,
      "metadata": {
        "colab": {
          "base_uri": "https://localhost:8080/"
        },
        "id": "wohqoPgrV3Fp",
        "outputId": "922121f7-21d3-4423-f897-ec06cbdff831"
      },
      "outputs": [
        {
          "data": {
            "text/plain": [
              "9"
            ]
          },
          "execution_count": 23,
          "metadata": {},
          "output_type": "execute_result"
        }
      ],
      "source": [
        "summul(2,3,4,'sum')"
      ]
    },
    {
      "cell_type": "code",
      "execution_count": null,
      "metadata": {
        "colab": {
          "base_uri": "https://localhost:8080/"
        },
        "id": "bPOc1v3hV8JM",
        "outputId": "ffb18c23-7a71-41c0-9014-4ad26c814487"
      },
      "outputs": [
        {
          "data": {
            "text/plain": [
              "24"
            ]
          },
          "execution_count": 24,
          "metadata": {},
          "output_type": "execute_result"
        }
      ],
      "source": [
        "summul(2,3,4,'mul')"
      ]
    },
    {
      "cell_type": "code",
      "execution_count": null,
      "metadata": {
        "colab": {
          "base_uri": "https://localhost:8080/"
        },
        "id": "ibkkyoZ4Wzhi",
        "outputId": "ccd9d517-7210-4857-a68e-c7e8d394a73a"
      },
      "outputs": [
        {
          "data": {
            "text/plain": [
              "1"
            ]
          },
          "execution_count": 26,
          "metadata": {},
          "output_type": "execute_result"
        }
      ],
      "source": [
        "5%2"
      ]
    },
    {
      "cell_type": "code",
      "execution_count": null,
      "metadata": {
        "id": "qR0qca6fV-na"
      },
      "outputs": [],
      "source": [
        "# python method findevenorodd(45)\n",
        "#Hint : num % 2 == 0 : % Remainder"
      ]
    },
    {
      "cell_type": "code",
      "execution_count": null,
      "metadata": {
        "colab": {
          "base_uri": "https://localhost:8080/"
        },
        "id": "f0CX45VsX2Ql",
        "outputId": "3aadfdea-929c-4fbc-8292-3cb60524f04b"
      },
      "outputs": [
        {
          "name": "stdout",
          "output_type": "stream",
          "text": [
            "even\n"
          ]
        }
      ],
      "source": [
        "def findevenorodd(num):\n",
        "  if (num % 2 == 0):\n",
        "    print ('even')\n",
        "  if (num % 2 != 0):\n",
        "    print ('odd')\n",
        "\n",
        "findevenorodd(444)"
      ]
    },
    {
      "cell_type": "code",
      "execution_count": null,
      "metadata": {
        "colab": {
          "base_uri": "https://localhost:8080/",
          "height": 35
        },
        "id": "cy66geTcYLtv",
        "outputId": "3fed2f07-6564-402d-aa88-1969f06df54f"
      },
      "outputs": [
        {
          "data": {
            "application/vnd.google.colaboratory.intrinsic+json": {
              "type": "string"
            },
            "text/plain": [
              "'even'"
            ]
          },
          "execution_count": 28,
          "metadata": {},
          "output_type": "execute_result"
        }
      ],
      "source": [
        "def findevenorodd(num):\n",
        "  if (num % 2 == 0):\n",
        "    result = 'even'\n",
        "  if (num % 2 != 0):\n",
        "    result = 'odd'\n",
        "  return result\n",
        "\n",
        "findevenorodd(444)"
      ]
    },
    {
      "cell_type": "markdown",
      "metadata": {
        "id": "vy5Y8lFHIp8A"
      },
      "source": [
        "## DataTypes in Python"
      ]
    },
    {
      "cell_type": "code",
      "execution_count": null,
      "metadata": {
        "id": "al95k1Y6YXpU"
      },
      "outputs": [],
      "source": [
        "'''\n",
        "Text type : str\n",
        "NUmeric ical TYpes : int, float, comple\n",
        "Sequene datatypes : list, tuple and range\n",
        "Mapping TYpe : dict\n",
        "settypes : set\n",
        "Boolean Type:\tbool\n",
        "Binary Types:\tbytes, bytearray, memoryview\n",
        "None Type:\tNoneType\n",
        "'''\n",
        "x = 'Dog killed a cat'\n",
        "y = 64\n",
        "z = 75.432\n",
        "m1 = ['aijigr','fhuwhebr','fg'] # list needs to be in square bracket, list can take only strings, only numbers or both\n",
        "m2 = [4,5.67,5.21]\n",
        "m3 = ['deesg',4.4,'gregr']\n",
        "n1 = ()\n",
        "l1 = [i for i in range(10)]\n",
        "l2 = [i for i in range(0,5)] #(start position, end_position)\n",
        "l3 = [i for i in range(0,5,2)]"
      ]
    },
    {
      "cell_type": "code",
      "execution_count": null,
      "metadata": {
        "colab": {
          "base_uri": "https://localhost:8080/"
        },
        "id": "6U-eiBXRKUn5",
        "outputId": "38728275-90d8-493e-fe84-d5fbb17a8dc3"
      },
      "outputs": [
        {
          "data": {
            "text/plain": [
              "[0, 1, 2, 3, 4, 5, 6, 7, 8, 9]"
            ]
          },
          "execution_count": 7,
          "metadata": {},
          "output_type": "execute_result"
        }
      ],
      "source": [
        "l1"
      ]
    },
    {
      "cell_type": "code",
      "execution_count": null,
      "metadata": {
        "colab": {
          "base_uri": "https://localhost:8080/"
        },
        "id": "YmVVAhZ1KhnZ",
        "outputId": "3dc40e95-84ae-4562-e2eb-18a5bfd91b4d"
      },
      "outputs": [
        {
          "data": {
            "text/plain": [
              "[0, 1, 2, 3, 4]"
            ]
          },
          "execution_count": 9,
          "metadata": {},
          "output_type": "execute_result"
        }
      ],
      "source": [
        "l2"
      ]
    },
    {
      "cell_type": "code",
      "execution_count": null,
      "metadata": {
        "colab": {
          "base_uri": "https://localhost:8080/"
        },
        "id": "olNRJd-YK65k",
        "outputId": "6ea8564e-3ea6-4313-891f-31f64f2b0066"
      },
      "outputs": [
        {
          "data": {
            "text/plain": [
              "[0, 2, 4]"
            ]
          },
          "execution_count": 11,
          "metadata": {},
          "output_type": "execute_result"
        }
      ],
      "source": [
        "l3"
      ]
    },
    {
      "cell_type": "code",
      "execution_count": null,
      "metadata": {
        "colab": {
          "base_uri": "https://localhost:8080/"
        },
        "id": "eyyHTLd5I8A4",
        "outputId": "58cd281c-59a8-4ad9-a462-554f0b8c79c0"
      },
      "outputs": [
        {
          "name": "stdout",
          "output_type": "stream",
          "text": [
            "<class 'str'>\n",
            "<class 'int'>\n",
            "<class 'float'>\n"
          ]
        }
      ],
      "source": [
        "print(type(x))\n",
        "print(type(y))\n",
        "print(type(z))"
      ]
    },
    {
      "cell_type": "code",
      "execution_count": null,
      "metadata": {
        "id": "bdLyhD8JI_LH"
      },
      "outputs": [],
      "source": [
        "l2 = [i for i in range(20,40)]\n",
        "l2 = [i for i in range(20,40,4)]"
      ]
    },
    {
      "cell_type": "code",
      "execution_count": null,
      "metadata": {
        "id": "Y9Ehc6oWLnRv"
      },
      "outputs": [],
      "source": [
        "x = 1\n",
        "y = 2.8"
      ]
    },
    {
      "cell_type": "code",
      "execution_count": null,
      "metadata": {
        "colab": {
          "base_uri": "https://localhost:8080/"
        },
        "id": "YWTx8ZSWLnOC",
        "outputId": "da0e127c-dbc4-454d-cfbc-8eececaec53f"
      },
      "outputs": [
        {
          "data": {
            "text/plain": [
              "int"
            ]
          },
          "execution_count": 13,
          "metadata": {},
          "output_type": "execute_result"
        }
      ],
      "source": [
        "type(x)"
      ]
    },
    {
      "cell_type": "code",
      "execution_count": null,
      "metadata": {
        "colab": {
          "base_uri": "https://localhost:8080/"
        },
        "id": "hTjczheVMDAI",
        "outputId": "f4bf8358-cb3f-4abe-94a1-932579146cab"
      },
      "outputs": [
        {
          "data": {
            "text/plain": [
              "float"
            ]
          },
          "execution_count": 14,
          "metadata": {},
          "output_type": "execute_result"
        }
      ],
      "source": [
        "type(y)"
      ]
    },
    {
      "cell_type": "code",
      "execution_count": null,
      "metadata": {
        "id": "gslytbveMEMf"
      },
      "outputs": [],
      "source": [
        "a = float(x)\n",
        "b = int(y)"
      ]
    },
    {
      "cell_type": "code",
      "execution_count": null,
      "metadata": {
        "colab": {
          "base_uri": "https://localhost:8080/"
        },
        "id": "BT3qC_w5MR6J",
        "outputId": "446e01d1-0e19-4b99-eb89-1eff5c676fc0"
      },
      "outputs": [
        {
          "data": {
            "text/plain": [
              "2"
            ]
          },
          "execution_count": 19,
          "metadata": {},
          "output_type": "execute_result"
        }
      ],
      "source": [
        "import random #import is a keyword to call the libraries into your code\n",
        "random.randrange(1,10)"
      ]
    },
    {
      "cell_type": "code",
      "execution_count": null,
      "metadata": {
        "colab": {
          "base_uri": "https://localhost:8080/"
        },
        "id": "8262YCWLMvyZ",
        "outputId": "f73d1648-a096-4666-c805-66d0c1add31a"
      },
      "outputs": [
        {
          "data": {
            "text/plain": [
              "1.0"
            ]
          },
          "execution_count": 20,
          "metadata": {},
          "output_type": "execute_result"
        }
      ],
      "source": [
        "x = \"1\"\n",
        "float(x)"
      ]
    },
    {
      "cell_type": "markdown",
      "metadata": {
        "id": "1A_2XLj0NeXO"
      },
      "source": [
        "## Strings"
      ]
    },
    {
      "cell_type": "code",
      "execution_count": null,
      "metadata": {
        "colab": {
          "base_uri": "https://localhost:8080/"
        },
        "id": "aLyewNkINMvq",
        "outputId": "a33e906d-3ae0-418c-b398-35f5d1aca58f"
      },
      "outputs": [
        {
          "name": "stdout",
          "output_type": "stream",
          "text": [
            "Hello\n"
          ]
        }
      ],
      "source": [
        "a = 'Hello'\n",
        "print (a)"
      ]
    },
    {
      "cell_type": "code",
      "execution_count": null,
      "metadata": {
        "colab": {
          "base_uri": "https://localhost:8080/"
        },
        "id": "1y4vHkceNqcy",
        "outputId": "36db5421-ead1-488a-9af6-50b59e1f54ea"
      },
      "outputs": [
        {
          "name": "stdout",
          "output_type": "stream",
          "text": [
            "\n",
            "This is a Datascince course\n",
            "We are in batch 2\n",
            "We started with python\n",
            "\n"
          ]
        }
      ],
      "source": [
        "b = \"\"\"\n",
        "This is a Datascince course\n",
        "We are in batch 2\n",
        "We started with python\n",
        "\"\"\"\n",
        "print (b)"
      ]
    },
    {
      "cell_type": "code",
      "execution_count": null,
      "metadata": {
        "id": "h9ni1iO_N63b"
      },
      "outputs": [],
      "source": [
        "a = \"I like icecream\""
      ]
    },
    {
      "cell_type": "code",
      "execution_count": null,
      "metadata": {
        "colab": {
          "base_uri": "https://localhost:8080/",
          "height": 35
        },
        "id": "-nKQwv1XOCMG",
        "outputId": "4cfd1e21-3691-47f7-98b5-762132925d67"
      },
      "outputs": [
        {
          "data": {
            "application/vnd.google.colaboratory.intrinsic+json": {
              "type": "string"
            },
            "text/plain": [
              "'I'"
            ]
          },
          "execution_count": 24,
          "metadata": {},
          "output_type": "execute_result"
        }
      ],
      "source": [
        "a[0]"
      ]
    },
    {
      "cell_type": "code",
      "execution_count": null,
      "metadata": {
        "colab": {
          "base_uri": "https://localhost:8080/"
        },
        "id": "teJKsvOkOQZM",
        "outputId": "dceb1fc9-3ea2-4ec1-9222-2498793f284b"
      },
      "outputs": [
        {
          "data": {
            "text/plain": [
              "15"
            ]
          },
          "execution_count": 25,
          "metadata": {},
          "output_type": "execute_result"
        }
      ],
      "source": [
        "len(a)"
      ]
    },
    {
      "cell_type": "code",
      "execution_count": null,
      "metadata": {
        "colab": {
          "base_uri": "https://localhost:8080/"
        },
        "id": "2aiiWE6LOTpl",
        "outputId": "ab1426ac-3c63-4bae-d79b-619b3e34c510"
      },
      "outputs": [
        {
          "name": "stdout",
          "output_type": "stream",
          "text": [
            "I\n",
            " \n",
            "l\n",
            "i\n",
            "k\n",
            "e\n",
            " \n",
            "i\n",
            "c\n",
            "e\n",
            "c\n",
            "r\n",
            "e\n",
            "a\n",
            "m\n"
          ]
        }
      ],
      "source": [
        "for i in a:\n",
        "  print(i)"
      ]
    },
    {
      "cell_type": "code",
      "execution_count": null,
      "metadata": {
        "colab": {
          "base_uri": "https://localhost:8080/"
        },
        "id": "4MBIsiy5OhMq",
        "outputId": "1ef45a57-894e-4dd8-ae89-7b0472918cec"
      },
      "outputs": [
        {
          "name": "stdout",
          "output_type": "stream",
          "text": [
            "I\n",
            " \n",
            "l\n",
            "i\n",
            "k\n",
            "e\n",
            " \n",
            "i\n",
            "c\n",
            "e\n",
            "c\n",
            "r\n",
            "e\n",
            "a\n",
            "m\n"
          ]
        }
      ],
      "source": [
        "for i in range(0,len(a)):\n",
        "  print (a[i])"
      ]
    },
    {
      "cell_type": "code",
      "execution_count": null,
      "metadata": {
        "colab": {
          "base_uri": "https://localhost:8080/",
          "height": 35
        },
        "id": "HZBUwYc3OwUR",
        "outputId": "7db169e6-398f-4a29-d2a7-7d5bbf997d2f"
      },
      "outputs": [
        {
          "data": {
            "application/vnd.google.colaboratory.intrinsic+json": {
              "type": "string"
            },
            "text/plain": [
              "'I like icecream'"
            ]
          },
          "execution_count": 29,
          "metadata": {},
          "output_type": "execute_result"
        }
      ],
      "source": [
        "a"
      ]
    },
    {
      "cell_type": "code",
      "execution_count": null,
      "metadata": {
        "colab": {
          "base_uri": "https://localhost:8080/"
        },
        "id": "3sP4Prm4O7Gx",
        "outputId": "62a470b8-1543-479b-d7a9-0e13759cc1ce"
      },
      "outputs": [
        {
          "data": {
            "text/plain": [
              "['I ', ' icecream']"
            ]
          },
          "execution_count": 32,
          "metadata": {},
          "output_type": "execute_result"
        }
      ],
      "source": [
        "a.split('like')"
      ]
    },
    {
      "cell_type": "code",
      "execution_count": null,
      "metadata": {
        "colab": {
          "base_uri": "https://localhost:8080/"
        },
        "id": "MOHizxhHO95E",
        "outputId": "35187bbd-e615-453e-bbbf-e6146c2ff5f5"
      },
      "outputs": [
        {
          "name": "stdout",
          "output_type": "stream",
          "text": [
            "['My', 'name', 'is', 'Ajay']\n"
          ]
        }
      ],
      "source": [
        "str1 = 'My name is Ajay'\n",
        "print(str1.split(' '))"
      ]
    },
    {
      "cell_type": "code",
      "execution_count": null,
      "metadata": {
        "colab": {
          "base_uri": "https://localhost:8080/"
        },
        "id": "tZXIW0-WPc76",
        "outputId": "5068c72a-0117-4aa8-f15c-dce201f63ccd"
      },
      "outputs": [
        {
          "name": "stdout",
          "output_type": "stream",
          "text": [
            "True\n"
          ]
        }
      ],
      "source": [
        "str1 = \"This is a basic class on python\"\n",
        "print (\"class\" in str1)"
      ]
    },
    {
      "cell_type": "code",
      "execution_count": null,
      "metadata": {
        "colab": {
          "base_uri": "https://localhost:8080/"
        },
        "id": "CfPSl1uNP4l2",
        "outputId": "d22a321b-50d6-4485-b0c4-dd64a1ed3681"
      },
      "outputs": [
        {
          "name": "stdout",
          "output_type": "stream",
          "text": [
            "Yes class is present in the text\n"
          ]
        }
      ],
      "source": [
        "if \"class\" in str1:\n",
        "  print ('Yes class is present in the text')"
      ]
    },
    {
      "cell_type": "code",
      "execution_count": null,
      "metadata": {
        "colab": {
          "base_uri": "https://localhost:8080/"
        },
        "id": "rCh4vwVjQYNG",
        "outputId": "6afb24ca-496e-4f8c-fe2b-3619fddf74d6"
      },
      "outputs": [
        {
          "name": "stdout",
          "output_type": "stream",
          "text": [
            "False\n"
          ]
        }
      ],
      "source": [
        "print (\"class\" not in str1)"
      ]
    },
    {
      "cell_type": "code",
      "execution_count": null,
      "metadata": {
        "colab": {
          "base_uri": "https://localhost:8080/"
        },
        "id": "rzprkTXKQfyQ",
        "outputId": "84226b2b-4909-4fe1-bf52-c934bdcff7fa"
      },
      "outputs": [
        {
          "name": "stdout",
          "output_type": "stream",
          "text": [
            "True\n"
          ]
        }
      ],
      "source": [
        "print ('expensive' not in str1)"
      ]
    },
    {
      "cell_type": "code",
      "execution_count": null,
      "metadata": {
        "colab": {
          "base_uri": "https://localhost:8080/",
          "height": 35
        },
        "id": "gOCNMxh7Qn6M",
        "outputId": "de0df916-6557-4d3e-dd93-7138efd7182d"
      },
      "outputs": [
        {
          "data": {
            "application/vnd.google.colaboratory.intrinsic+json": {
              "type": "string"
            },
            "text/plain": [
              "'llo'"
            ]
          },
          "execution_count": 42,
          "metadata": {},
          "output_type": "execute_result"
        }
      ],
      "source": [
        "str2 = \"hello world\"\n",
        "str2[2:5] #[staartposition:endposition]"
      ]
    },
    {
      "cell_type": "code",
      "execution_count": null,
      "metadata": {
        "colab": {
          "base_uri": "https://localhost:8080/",
          "height": 35
        },
        "id": "Clh27yKfRCNP",
        "outputId": "5c259c0e-6313-4c49-a3ab-d9c1eaeba7af"
      },
      "outputs": [
        {
          "data": {
            "application/vnd.google.colaboratory.intrinsic+json": {
              "type": "string"
            },
            "text/plain": [
              "'hell'"
            ]
          },
          "execution_count": 43,
          "metadata": {},
          "output_type": "execute_result"
        }
      ],
      "source": [
        "str2[:4]"
      ]
    },
    {
      "cell_type": "code",
      "execution_count": null,
      "metadata": {
        "colab": {
          "base_uri": "https://localhost:8080/",
          "height": 35
        },
        "id": "FOkoQHOcRLSN",
        "outputId": "b38f65e0-aeea-4bb7-84bb-777e618738af"
      },
      "outputs": [
        {
          "data": {
            "application/vnd.google.colaboratory.intrinsic+json": {
              "type": "string"
            },
            "text/plain": [
              "'lo world'"
            ]
          },
          "execution_count": 44,
          "metadata": {},
          "output_type": "execute_result"
        }
      ],
      "source": [
        "str2[3:]"
      ]
    },
    {
      "cell_type": "code",
      "execution_count": null,
      "metadata": {
        "colab": {
          "base_uri": "https://localhost:8080/",
          "height": 35
        },
        "id": "JaOeEe8vRYe7",
        "outputId": "eb0fec2b-07c3-4a69-ca42-21355b851a56"
      },
      "outputs": [
        {
          "data": {
            "application/vnd.google.colaboratory.intrinsic+json": {
              "type": "string"
            },
            "text/plain": [
              "'worl'"
            ]
          },
          "execution_count": 45,
          "metadata": {},
          "output_type": "execute_result"
        }
      ],
      "source": [
        "str2[-5:-1]"
      ]
    },
    {
      "cell_type": "code",
      "execution_count": null,
      "metadata": {
        "colab": {
          "base_uri": "https://localhost:8080/",
          "height": 35
        },
        "id": "WlhPDwxsRjhd",
        "outputId": "101897e2-63bb-4ada-b211-b761205b5d4d"
      },
      "outputs": [
        {
          "data": {
            "application/vnd.google.colaboratory.intrinsic+json": {
              "type": "string"
            },
            "text/plain": [
              "''"
            ]
          },
          "execution_count": 47,
          "metadata": {},
          "output_type": "execute_result"
        }
      ],
      "source": [
        "str2[-1:-2]"
      ]
    },
    {
      "cell_type": "code",
      "execution_count": null,
      "metadata": {
        "colab": {
          "base_uri": "https://localhost:8080/",
          "height": 35
        },
        "id": "p-qOE0pvRpQZ",
        "outputId": "85b2b0ed-07c2-4ee7-ee96-588a07e4df12"
      },
      "outputs": [
        {
          "data": {
            "application/vnd.google.colaboratory.intrinsic+json": {
              "type": "string"
            },
            "text/plain": [
              "''"
            ]
          },
          "execution_count": 48,
          "metadata": {},
          "output_type": "execute_result"
        }
      ],
      "source": [
        "str2[-1:-5]"
      ]
    },
    {
      "cell_type": "code",
      "execution_count": null,
      "metadata": {
        "colab": {
          "base_uri": "https://localhost:8080/",
          "height": 35
        },
        "id": "UeWFXltlR0r1",
        "outputId": "21e5fce4-875b-4c64-c905-fa4fe9f49acb"
      },
      "outputs": [
        {
          "data": {
            "application/vnd.google.colaboratory.intrinsic+json": {
              "type": "string"
            },
            "text/plain": [
              "'RAMA KILLED RAVANA'"
            ]
          },
          "execution_count": 49,
          "metadata": {},
          "output_type": "execute_result"
        }
      ],
      "source": [
        "str3 = \"Rama killed Ravana\"\n",
        "str3.upper()"
      ]
    },
    {
      "cell_type": "code",
      "execution_count": null,
      "metadata": {
        "colab": {
          "base_uri": "https://localhost:8080/",
          "height": 35
        },
        "id": "bLGCyG92SJFU",
        "outputId": "5e97bf9b-d692-48bb-f28b-f7fc46494009"
      },
      "outputs": [
        {
          "data": {
            "application/vnd.google.colaboratory.intrinsic+json": {
              "type": "string"
            },
            "text/plain": [
              "'rama killed ravana'"
            ]
          },
          "execution_count": 50,
          "metadata": {},
          "output_type": "execute_result"
        }
      ],
      "source": [
        "str3.lower()"
      ]
    },
    {
      "cell_type": "code",
      "execution_count": null,
      "metadata": {
        "colab": {
          "base_uri": "https://localhost:8080/",
          "height": 35
        },
        "id": "gzrvXui8SMGW",
        "outputId": "9b3d92e2-4dfb-4380-d540-ecbfecfb9c52"
      },
      "outputs": [
        {
          "data": {
            "application/vnd.google.colaboratory.intrinsic+json": {
              "type": "string"
            },
            "text/plain": [
              "'King od Ayodhya killed Ravana'"
            ]
          },
          "execution_count": 51,
          "metadata": {},
          "output_type": "execute_result"
        }
      ],
      "source": [
        "str3.replace('Rama','King od Ayodhya')"
      ]
    },
    {
      "cell_type": "code",
      "execution_count": null,
      "metadata": {
        "colab": {
          "base_uri": "https://localhost:8080/",
          "height": 35
        },
        "id": "K2kyXgYrSShj",
        "outputId": "c58fc805-ff01-432e-ce7e-0a9d83cafde5"
      },
      "outputs": [
        {
          "data": {
            "application/vnd.google.colaboratory.intrinsic+json": {
              "type": "string"
            },
            "text/plain": [
              "'RAMA KILLED RAVANA'"
            ]
          },
          "execution_count": 55,
          "metadata": {},
          "output_type": "execute_result"
        }
      ],
      "source": [
        "str3 = \"rama killed Ravana\"\n",
        "str3.upper()"
      ]
    },
    {
      "cell_type": "code",
      "execution_count": null,
      "metadata": {
        "colab": {
          "base_uri": "https://localhost:8080/",
          "height": 35
        },
        "id": "azOg4i-ISfZW",
        "outputId": "106be36b-f70d-43d3-ec92-60f506eb14f3"
      },
      "outputs": [
        {
          "data": {
            "application/vnd.google.colaboratory.intrinsic+json": {
              "type": "string"
            },
            "text/plain": [
              "'Rama killed ravana'"
            ]
          },
          "execution_count": 56,
          "metadata": {},
          "output_type": "execute_result"
        }
      ],
      "source": [
        "str3.capitalize()"
      ]
    },
    {
      "cell_type": "code",
      "execution_count": null,
      "metadata": {
        "id": "8DgwBCE-SxRH"
      },
      "outputs": [],
      "source": [
        "a = 'Hello'\n",
        "b = 'World'"
      ]
    },
    {
      "cell_type": "code",
      "execution_count": null,
      "metadata": {
        "colab": {
          "base_uri": "https://localhost:8080/",
          "height": 35
        },
        "id": "ABqqdR7DTAYU",
        "outputId": "ac8acb7a-26fe-4cc9-87a7-e9d589af0cb8"
      },
      "outputs": [
        {
          "data": {
            "application/vnd.google.colaboratory.intrinsic+json": {
              "type": "string"
            },
            "text/plain": [
              "'HelloWorld'"
            ]
          },
          "execution_count": 59,
          "metadata": {},
          "output_type": "execute_result"
        }
      ],
      "source": [
        "a + b"
      ]
    },
    {
      "cell_type": "code",
      "execution_count": null,
      "metadata": {
        "colab": {
          "base_uri": "https://localhost:8080/",
          "height": 35
        },
        "id": "Ewo0dY3rTcs8",
        "outputId": "9359d066-a7d4-4a9e-e517-e86f8d416036"
      },
      "outputs": [
        {
          "data": {
            "application/vnd.google.colaboratory.intrinsic+json": {
              "type": "string"
            },
            "text/plain": [
              "'Hello World'"
            ]
          },
          "execution_count": 60,
          "metadata": {},
          "output_type": "execute_result"
        }
      ],
      "source": [
        "a + ' ' + b"
      ]
    },
    {
      "cell_type": "code",
      "execution_count": null,
      "metadata": {
        "id": "cYLAFJmfThNV"
      },
      "outputs": [],
      "source": [
        "x = 5"
      ]
    },
    {
      "cell_type": "code",
      "execution_count": null,
      "metadata": {
        "colab": {
          "base_uri": "https://localhost:8080/"
        },
        "id": "U16PnL3GTmWE",
        "outputId": "941e2c95-7fdf-4bd7-ef4a-933e68947fd0"
      },
      "outputs": [
        {
          "name": "stdout",
          "output_type": "stream",
          "text": [
            "I bought 5 apples\n"
          ]
        }
      ],
      "source": [
        "print (f'I bought {x} apples')"
      ]
    },
    {
      "cell_type": "code",
      "execution_count": null,
      "metadata": {
        "colab": {
          "base_uri": "https://localhost:8080/",
          "height": 35
        },
        "id": "JmIuBW-kTtgn",
        "outputId": "c6e03d4d-27c1-49d7-b5dc-73af6400a312"
      },
      "outputs": [
        {
          "data": {
            "application/vnd.google.colaboratory.intrinsic+json": {
              "type": "string"
            },
            "text/plain": [
              "'I bought 5 apples'"
            ]
          },
          "execution_count": 63,
          "metadata": {},
          "output_type": "execute_result"
        }
      ],
      "source": [
        "str4 = 'I bought {} apples'\n",
        "str4.format(x)"
      ]
    },
    {
      "cell_type": "code",
      "execution_count": null,
      "metadata": {
        "id": "iQX2N6xIT4wg"
      },
      "outputs": [],
      "source": [
        "'''\n",
        "Method\tDescription\n",
        "capitalize()\tConverts the first character to upper case\n",
        "casefold()\tConverts string into lower case\n",
        "center()\tReturns a centered string\n",
        "count()\tReturns the number of times a specified value occurs in a string\n",
        "encode()\tReturns an encoded version of the string\n",
        "endswith()\tReturns true if the string ends with the specified value\n",
        "expandtabs()\tSets the tab size of the string\n",
        "find()\tSearches the string for a specified value and returns the position of where it was found\n",
        "format()\tFormats specified values in a string\n",
        "format_map()\tFormats specified values in a string\n",
        "index()\tSearches the string for a specified value and returns the position of where it was found\n",
        "isalnum()\tReturns True if all characters in the string are alphanumeric\n",
        "isalpha()\tReturns True if all characters in the string are in the alphabet\n",
        "isascii()\tReturns True if all characters in the string are ascii characters\n",
        "isdecimal()\tReturns True if all characters in the string are decimals\n",
        "isdigit()\tReturns True if all characters in the string are digits\n",
        "isidentifier()\tReturns True if the string is an identifier\n",
        "islower()\tReturns True if all characters in the string are lower case\n",
        "isnumeric()\tReturns True if all characters in the string are numeric\n",
        "isprintable()\tReturns True if all characters in the string are printable\n",
        "isspace()\tReturns True if all characters in the string are whitespaces\n",
        "istitle()\tReturns True if the string follows the rules of a title\n",
        "isupper()\tReturns True if all characters in the string are upper case\n",
        "join()\tJoins the elements of an iterable to the end of the string\n",
        "ljust()\tReturns a left justified version of the string\n",
        "lower()\tConverts a string into lower case\n",
        "lstrip()\tReturns a left trim version of the string\n",
        "maketrans()\tReturns a translation table to be used in translations\n",
        "partition()\tReturns a tuple where the string is parted into three parts\n",
        "replace()\tReturns a string where a specified value is replaced with a specified value\n",
        "rfind()\tSearches the string for a specified value and returns the last position of where it was found\n",
        "rindex()\tSearches the string for a specified value and returns the last position of where it was found\n",
        "rjust()\tReturns a right justified version of the string\n",
        "rpartition()\tReturns a tuple where the string is parted into three parts\n",
        "rsplit()\tSplits the string at the specified separator, and returns a list\n",
        "rstrip()\tReturns a right trim version of the string\n",
        "split()\tSplits the string at the specified separator, and returns a list\n",
        "splitlines()\tSplits the string at line breaks and returns a list\n",
        "startswith()\tReturns true if the string starts with the specified value\n",
        "strip()\tReturns a trimmed version of the string\n",
        "swapcase()\tSwaps cases, lower case becomes upper case and vice versa\n",
        "title()\tConverts the first character of each word to upper case\n",
        "translate()\tReturns a translated string\n",
        "upper()\tConverts a string into upper case\n",
        "zfill()\tFills the string with a specified number of 0 values at the beginning\n",
        "'''"
      ]
    },
    {
      "cell_type": "markdown",
      "metadata": {
        "id": "BYuTvgmhUUZJ"
      },
      "source": [
        "##Boolean Operators"
      ]
    },
    {
      "cell_type": "code",
      "execution_count": null,
      "metadata": {
        "colab": {
          "base_uri": "https://localhost:8080/"
        },
        "id": "8sDgeh_oUXjn",
        "outputId": "f0ee2b25-bef3-4e76-ae24-c8e469fe3976"
      },
      "outputs": [
        {
          "name": "stdout",
          "output_type": "stream",
          "text": [
            "True\n"
          ]
        }
      ],
      "source": [
        "print (10 > 5)"
      ]
    },
    {
      "cell_type": "code",
      "execution_count": null,
      "metadata": {
        "colab": {
          "base_uri": "https://localhost:8080/"
        },
        "id": "_Vho1TnjUeWX",
        "outputId": "c4cce145-ed31-44cc-afa1-2e23b6de76d8"
      },
      "outputs": [
        {
          "name": "stdout",
          "output_type": "stream",
          "text": [
            "False\n"
          ]
        }
      ],
      "source": [
        "print (10 == 9)"
      ]
    },
    {
      "cell_type": "code",
      "execution_count": null,
      "metadata": {
        "colab": {
          "base_uri": "https://localhost:8080/"
        },
        "id": "uPVKCp_5UhCV",
        "outputId": "e884f0ac-90cb-4b5e-81c7-d35f133ec07f"
      },
      "outputs": [
        {
          "name": "stdout",
          "output_type": "stream",
          "text": [
            "False\n"
          ]
        }
      ],
      "source": [
        "print (10<9)"
      ]
    },
    {
      "cell_type": "code",
      "execution_count": null,
      "metadata": {
        "colab": {
          "base_uri": "https://localhost:8080/"
        },
        "id": "dnY10xxwUj55",
        "outputId": "a9ec0403-61f0-4334-ea1f-20aec3f067ad"
      },
      "outputs": [
        {
          "name": "stdout",
          "output_type": "stream",
          "text": [
            "hello\n"
          ]
        }
      ],
      "source": [
        "a = 200\n",
        "b = 13\n",
        "if b >a:\n",
        "  print ('hi')\n",
        "else:\n",
        "  print ('hello')"
      ]
    },
    {
      "cell_type": "code",
      "execution_count": null,
      "metadata": {
        "colab": {
          "base_uri": "https://localhost:8080/"
        },
        "id": "DEPsaa1QVQQH",
        "outputId": "d0479815-9002-40eb-be5a-22138fda7ec3"
      },
      "outputs": [
        {
          "name": "stdout",
          "output_type": "stream",
          "text": [
            "0\n",
            "2\n",
            "4\n",
            "6\n",
            "8\n"
          ]
        }
      ],
      "source": [
        "def evenodd(x):\n",
        "  for j in x:\n",
        "\n",
        "    if j % 2 == 0:\n",
        "      print (j)\n",
        "\n",
        "\n",
        "\n",
        "l1 = [i for i in range(0,10)]\n",
        "evenodd(l1)"
      ]
    },
    {
      "cell_type": "markdown",
      "metadata": {
        "id": "H6ToEHGhRYNH"
      },
      "source": [
        "## operators"
      ]
    },
    {
      "cell_type": "code",
      "execution_count": null,
      "metadata": {
        "id": "AbbABlwLSJfl"
      },
      "outputs": [],
      "source": [
        "def mathfunc(a,b,operation):\n",
        "\n",
        "  if operation == 'addition':\n",
        "    return a+b\n"
      ]
    },
    {
      "cell_type": "code",
      "execution_count": null,
      "metadata": {
        "id": "ZmzzT_EcWcwt"
      },
      "outputs": [],
      "source": [
        "x = 10\n",
        "y = 20"
      ]
    },
    {
      "cell_type": "code",
      "execution_count": null,
      "metadata": {
        "colab": {
          "base_uri": "https://localhost:8080/"
        },
        "id": "o1hvpzvCSUxP",
        "outputId": "7b52da0f-9692-491b-d40b-76751a10517e"
      },
      "outputs": [
        {
          "data": {
            "text/plain": [
              "30"
            ]
          },
          "execution_count": 3,
          "metadata": {},
          "output_type": "execute_result"
        }
      ],
      "source": [
        "mathfunc(x,y,'addition')"
      ]
    },
    {
      "cell_type": "code",
      "execution_count": null,
      "metadata": {
        "id": "3gBsDoriS_M_"
      },
      "outputs": [],
      "source": [
        "from IPython.core.compilerop import operator\n",
        "def mathfunc(a,operation):\n",
        "\n",
        "  if operation == 'addition':\n",
        "    sum = 0\n",
        "    for i in a:\n",
        "      sum = sum + i\n",
        "    return sum\n",
        "\n",
        "  if operation == 'substraction':\n",
        "    sub = a[0]\n",
        "    for i in a[1:]:\n",
        "      sub = sub-i\n",
        "    return sub\n",
        "\n",
        "  if operation == 'multiplication':\n",
        "    total = 1\n",
        "    for i in a:\n",
        "      total = total*i\n",
        "    return total\n",
        "\n",
        "  if operation == 'division':\n",
        "    div = a[0]\n",
        "    for i in a[1:]:\n",
        "      div = div/i\n",
        "    return div"
      ]
    },
    {
      "cell_type": "code",
      "execution_count": null,
      "metadata": {
        "id": "_dHeD2UHStGG"
      },
      "outputs": [],
      "source": [
        "l1 = [10,20]"
      ]
    },
    {
      "cell_type": "code",
      "execution_count": null,
      "metadata": {
        "colab": {
          "base_uri": "https://localhost:8080/"
        },
        "id": "1bGulKF7Trlv",
        "outputId": "f110cc95-b62a-46ac-92da-b21734ab7bd0"
      },
      "outputs": [
        {
          "data": {
            "text/plain": [
              "30"
            ]
          },
          "execution_count": 27,
          "metadata": {},
          "output_type": "execute_result"
        }
      ],
      "source": [
        "mathfunc(l1,'addition')"
      ]
    },
    {
      "cell_type": "code",
      "execution_count": null,
      "metadata": {
        "colab": {
          "base_uri": "https://localhost:8080/"
        },
        "id": "mayej0XcTt0F",
        "outputId": "3b0e8d64-77ff-4e84-8877-7919d05b0158"
      },
      "outputs": [
        {
          "data": {
            "text/plain": [
              "-10"
            ]
          },
          "execution_count": 28,
          "metadata": {},
          "output_type": "execute_result"
        }
      ],
      "source": [
        "mathfunc(l1,'substraction')"
      ]
    },
    {
      "cell_type": "code",
      "execution_count": null,
      "metadata": {
        "id": "RaQV_v-PVnZv"
      },
      "outputs": [],
      "source": [
        "mathfunc(l1,'multiplication')"
      ]
    },
    {
      "cell_type": "markdown",
      "metadata": {
        "id": "R9Dfc28uadMM"
      },
      "source": [
        "##Operators"
      ]
    },
    {
      "cell_type": "code",
      "execution_count": null,
      "metadata": {
        "id": "PDN5BpWAaelH"
      },
      "outputs": [],
      "source": [
        "'''\n",
        "Arithmentic\n",
        "Assignment operators\n",
        "Logical operators\n",
        "'''"
      ]
    },
    {
      "cell_type": "code",
      "execution_count": null,
      "metadata": {
        "id": "NRnVjpfpa8sj"
      },
      "outputs": [],
      "source": [
        "x = 5\n",
        "y = 10"
      ]
    },
    {
      "cell_type": "code",
      "execution_count": null,
      "metadata": {
        "colab": {
          "base_uri": "https://localhost:8080/"
        },
        "id": "A4IKQ5icbDSj",
        "outputId": "07a47a0f-a380-422b-fc3a-8bc0bf0d2d81"
      },
      "outputs": [
        {
          "data": {
            "text/plain": [
              "15"
            ]
          },
          "execution_count": 2,
          "metadata": {},
          "output_type": "execute_result"
        }
      ],
      "source": [
        "x+y"
      ]
    },
    {
      "cell_type": "code",
      "execution_count": null,
      "metadata": {
        "colab": {
          "base_uri": "https://localhost:8080/"
        },
        "id": "6AN815EgbFA2",
        "outputId": "1c4fe273-760c-4364-f48d-f2fb915155ea"
      },
      "outputs": [
        {
          "data": {
            "text/plain": [
              "-5"
            ]
          },
          "execution_count": 3,
          "metadata": {},
          "output_type": "execute_result"
        }
      ],
      "source": [
        "x-y"
      ]
    },
    {
      "cell_type": "code",
      "execution_count": null,
      "metadata": {
        "colab": {
          "base_uri": "https://localhost:8080/"
        },
        "id": "-MlzncxRbG_s",
        "outputId": "289befcb-a716-4f21-c4ca-4f95e21e66b5"
      },
      "outputs": [
        {
          "data": {
            "text/plain": [
              "50"
            ]
          },
          "execution_count": 5,
          "metadata": {},
          "output_type": "execute_result"
        }
      ],
      "source": [
        "x*y"
      ]
    },
    {
      "cell_type": "code",
      "execution_count": null,
      "metadata": {
        "colab": {
          "base_uri": "https://localhost:8080/"
        },
        "id": "-Tsz8oWlbJLr",
        "outputId": "8340ddb0-cca3-44d1-b512-405325b97f2a"
      },
      "outputs": [
        {
          "data": {
            "text/plain": [
              "0.5"
            ]
          },
          "execution_count": 6,
          "metadata": {},
          "output_type": "execute_result"
        }
      ],
      "source": [
        "x/y"
      ]
    },
    {
      "cell_type": "code",
      "execution_count": null,
      "metadata": {
        "colab": {
          "base_uri": "https://localhost:8080/"
        },
        "id": "lh63ZAoybNGc",
        "outputId": "36bcd313-c48d-4f0a-f813-852c6856a4fd"
      },
      "outputs": [
        {
          "data": {
            "text/plain": [
              "5"
            ]
          },
          "execution_count": 7,
          "metadata": {},
          "output_type": "execute_result"
        }
      ],
      "source": [
        "# % modulus : Givens the remainder of division\n",
        "x % y"
      ]
    },
    {
      "cell_type": "code",
      "execution_count": null,
      "metadata": {
        "colab": {
          "base_uri": "https://localhost:8080/"
        },
        "id": "tvMxlJVWbcyQ",
        "outputId": "b0b9bc58-8634-400a-b0b7-96813148c6a6"
      },
      "outputs": [
        {
          "name": "stdout",
          "output_type": "stream",
          "text": [
            "2.3333333333333335\n"
          ]
        }
      ],
      "source": [
        "x = 7\n",
        "y = 3\n",
        "\n",
        "print (x/y)"
      ]
    },
    {
      "cell_type": "code",
      "execution_count": null,
      "metadata": {
        "colab": {
          "base_uri": "https://localhost:8080/"
        },
        "id": "WUVMwZRlbrke",
        "outputId": "a20ed4e1-b895-4b07-8846-e41090983f99"
      },
      "outputs": [
        {
          "name": "stdout",
          "output_type": "stream",
          "text": [
            "2\n"
          ]
        }
      ],
      "source": [
        "print (x//y) # // performs rounding of the quotient"
      ]
    },
    {
      "cell_type": "code",
      "execution_count": null,
      "metadata": {
        "colab": {
          "base_uri": "https://localhost:8080/"
        },
        "id": "0h28Mly6bvDT",
        "outputId": "ec6e0df2-aa50-48ad-e4a2-40fdec7e2625"
      },
      "outputs": [
        {
          "data": {
            "text/plain": [
              "0"
            ]
          },
          "execution_count": 10,
          "metadata": {},
          "output_type": "execute_result"
        }
      ],
      "source": [
        "l1 = [5,7]\n",
        "l1[0]//l1[1]"
      ]
    },
    {
      "cell_type": "code",
      "execution_count": null,
      "metadata": {
        "colab": {
          "base_uri": "https://localhost:8080/"
        },
        "id": "OKMlCwNBcZQb",
        "outputId": "4f450d8e-93d2-45a4-e42e-0423fa4de351"
      },
      "outputs": [
        {
          "data": {
            "text/plain": [
              "[0, 1, 2, 3, 4, 5, 6, 7, 8, 9]"
            ]
          },
          "execution_count": 16,
          "metadata": {},
          "output_type": "execute_result"
        }
      ],
      "source": [
        "l1 = [i for i in range(0,10)]\n",
        "l1"
      ]
    },
    {
      "cell_type": "code",
      "execution_count": null,
      "metadata": {
        "id": "Opr3zdwic5ha"
      },
      "outputs": [],
      "source": [
        "a =list(range(0,10))"
      ]
    },
    {
      "cell_type": "code",
      "execution_count": null,
      "metadata": {
        "colab": {
          "base_uri": "https://localhost:8080/"
        },
        "id": "LCCCjJ8HdPyI",
        "outputId": "318c3521-4efe-4f21-e750-f028be99be14"
      },
      "outputs": [
        {
          "data": {
            "text/plain": [
              "[0, 1, 2, 3, 4, 5, 6, 7, 8, 9]"
            ]
          },
          "execution_count": 18,
          "metadata": {},
          "output_type": "execute_result"
        }
      ],
      "source": [
        "a"
      ]
    },
    {
      "cell_type": "code",
      "execution_count": null,
      "metadata": {
        "colab": {
          "background_save": true
        },
        "id": "bdqIdxZFdQRE"
      },
      "outputs": [],
      "source": [
        "total = 1\n",
        "for i in range(0,len(a)):\n",
        "  if i %2 == 0:\n",
        "    total = total*i"
      ]
    },
    {
      "cell_type": "code",
      "execution_count": null,
      "metadata": {
        "id": "D0JnDAPJd8dn"
      },
      "outputs": [],
      "source": [
        "l2 = [i for i in range(10,20)]"
      ]
    },
    {
      "cell_type": "code",
      "source": [
        "l2"
      ],
      "metadata": {
        "colab": {
          "base_uri": "https://localhost:8080/"
        },
        "id": "Y4DesTxWiNqS",
        "outputId": "8aecbd6d-2179-40d7-e34b-51c871987eb3"
      },
      "execution_count": null,
      "outputs": [
        {
          "output_type": "execute_result",
          "data": {
            "text/plain": [
              "[10, 11, 12, 13, 14, 15, 16, 17, 18, 19]"
            ]
          },
          "metadata": {},
          "execution_count": 2
        }
      ]
    },
    {
      "cell_type": "code",
      "source": [
        "for i in l2:\n",
        "   i = i+3\n",
        "   print (i)"
      ],
      "metadata": {
        "colab": {
          "base_uri": "https://localhost:8080/"
        },
        "id": "0xGc33oLiQK3",
        "outputId": "4f12060c-0432-447f-d84e-740e4e1f6cfe"
      },
      "execution_count": null,
      "outputs": [
        {
          "output_type": "stream",
          "name": "stdout",
          "text": [
            "13\n",
            "14\n",
            "15\n",
            "16\n",
            "17\n",
            "18\n",
            "19\n",
            "20\n",
            "21\n",
            "22\n"
          ]
        }
      ]
    },
    {
      "cell_type": "code",
      "source": [
        "l2"
      ],
      "metadata": {
        "colab": {
          "base_uri": "https://localhost:8080/"
        },
        "id": "LRCbv-61juBl",
        "outputId": "31725228-5dd3-4519-b924-cbd5d5770969"
      },
      "execution_count": null,
      "outputs": [
        {
          "output_type": "execute_result",
          "data": {
            "text/plain": [
              "[10, 11, 12, 13, 14, 15, 16, 17, 18, 19]"
            ]
          },
          "metadata": {},
          "execution_count": 5
        }
      ]
    },
    {
      "cell_type": "code",
      "source": [
        "for i in l2:\n",
        "   #i = i+3\n",
        "   i += 3 # variable = variable + somenumber -> Assignment Operators\n",
        "   print (i)"
      ],
      "metadata": {
        "colab": {
          "base_uri": "https://localhost:8080/"
        },
        "id": "zN3qRFJsibM6",
        "outputId": "7ba74f7f-8771-4c73-c3af-47e985b1bb5d"
      },
      "execution_count": null,
      "outputs": [
        {
          "output_type": "stream",
          "name": "stdout",
          "text": [
            "13\n",
            "14\n",
            "15\n",
            "16\n",
            "17\n",
            "18\n",
            "19\n",
            "20\n",
            "21\n",
            "22\n"
          ]
        }
      ]
    },
    {
      "cell_type": "code",
      "source": [
        "for i in l2:\n",
        "  i -= 3 #i = i -3\n",
        "  print (i)"
      ],
      "metadata": {
        "colab": {
          "base_uri": "https://localhost:8080/"
        },
        "id": "xzj5looziueO",
        "outputId": "0624755c-4b74-466a-ab67-1f4eea785451"
      },
      "execution_count": null,
      "outputs": [
        {
          "output_type": "stream",
          "name": "stdout",
          "text": [
            "7\n",
            "8\n",
            "9\n",
            "10\n",
            "11\n",
            "12\n",
            "13\n",
            "14\n",
            "15\n",
            "16\n"
          ]
        }
      ]
    },
    {
      "cell_type": "code",
      "source": [
        "for i in l2:\n",
        "  i *= 3 #i = i -3\n",
        "  print (i)"
      ],
      "metadata": {
        "colab": {
          "base_uri": "https://localhost:8080/"
        },
        "id": "gAZsuAyZkMwX",
        "outputId": "68b0517e-8311-487b-e884-5e08b3259712"
      },
      "execution_count": null,
      "outputs": [
        {
          "output_type": "stream",
          "name": "stdout",
          "text": [
            "30\n",
            "33\n",
            "36\n",
            "39\n",
            "42\n",
            "45\n",
            "48\n",
            "51\n",
            "54\n",
            "57\n"
          ]
        }
      ]
    },
    {
      "cell_type": "code",
      "source": [
        "## Comparision operators"
      ],
      "metadata": {
        "id": "-2sSrtPAlh1b"
      },
      "execution_count": null,
      "outputs": []
    },
    {
      "cell_type": "code",
      "source": [
        "x = 7\n",
        "y = 10\n",
        "\n",
        "x == y"
      ],
      "metadata": {
        "colab": {
          "base_uri": "https://localhost:8080/"
        },
        "id": "eusOljCflmp6",
        "outputId": "aa6973ef-123b-4058-8e8c-b60a6ae439da"
      },
      "execution_count": null,
      "outputs": [
        {
          "output_type": "execute_result",
          "data": {
            "text/plain": [
              "False"
            ]
          },
          "metadata": {},
          "execution_count": 9
        }
      ]
    },
    {
      "cell_type": "code",
      "source": [
        "x != y"
      ],
      "metadata": {
        "colab": {
          "base_uri": "https://localhost:8080/"
        },
        "id": "fsonbotRmIDZ",
        "outputId": "98ef95e8-cf67-45aa-ba99-a373de68bbe7"
      },
      "execution_count": null,
      "outputs": [
        {
          "output_type": "execute_result",
          "data": {
            "text/plain": [
              "True"
            ]
          },
          "metadata": {},
          "execution_count": 10
        }
      ]
    },
    {
      "cell_type": "code",
      "source": [
        "x > y"
      ],
      "metadata": {
        "colab": {
          "base_uri": "https://localhost:8080/"
        },
        "id": "EQyenQpWmMW9",
        "outputId": "f4e031c5-6bb7-4f0f-b957-5396e8c4b6f1"
      },
      "execution_count": null,
      "outputs": [
        {
          "output_type": "execute_result",
          "data": {
            "text/plain": [
              "False"
            ]
          },
          "metadata": {},
          "execution_count": 11
        }
      ]
    },
    {
      "cell_type": "code",
      "source": [
        "x < y"
      ],
      "metadata": {
        "colab": {
          "base_uri": "https://localhost:8080/"
        },
        "id": "bw0hXD4OmPH3",
        "outputId": "7e7219d1-0f9a-44a8-b82a-0fd6325b8efd"
      },
      "execution_count": null,
      "outputs": [
        {
          "output_type": "execute_result",
          "data": {
            "text/plain": [
              "True"
            ]
          },
          "metadata": {},
          "execution_count": 12
        }
      ]
    },
    {
      "cell_type": "code",
      "source": [
        "x >= y"
      ],
      "metadata": {
        "colab": {
          "base_uri": "https://localhost:8080/"
        },
        "id": "CcHcdW1qmQnR",
        "outputId": "c12f6ff0-e3e0-4856-822b-76bb063a8eac"
      },
      "execution_count": null,
      "outputs": [
        {
          "output_type": "execute_result",
          "data": {
            "text/plain": [
              "False"
            ]
          },
          "metadata": {},
          "execution_count": 13
        }
      ]
    },
    {
      "cell_type": "code",
      "source": [
        "x <= y"
      ],
      "metadata": {
        "colab": {
          "base_uri": "https://localhost:8080/"
        },
        "id": "aXEqzYcTmaw0",
        "outputId": "7bc46466-a0ef-461a-fe29-b7975ccb8b7a"
      },
      "execution_count": null,
      "outputs": [
        {
          "output_type": "execute_result",
          "data": {
            "text/plain": [
              "True"
            ]
          },
          "metadata": {},
          "execution_count": 14
        }
      ]
    },
    {
      "cell_type": "code",
      "source": [
        "## logical operators\n",
        "\n",
        "x = 7 # if 7 is between 5 and 10\n",
        "\n",
        "(x > 5) and (x < 10) # and operation both comparisions have to be true"
      ],
      "metadata": {
        "colab": {
          "base_uri": "https://localhost:8080/"
        },
        "id": "3G02D4Qnmd-Q",
        "outputId": "130b02d8-1f8e-4d12-e217-8ed599d0a27a"
      },
      "execution_count": null,
      "outputs": [
        {
          "output_type": "execute_result",
          "data": {
            "text/plain": [
              "True"
            ]
          },
          "metadata": {},
          "execution_count": 17
        }
      ]
    },
    {
      "cell_type": "code",
      "source": [
        "(x < 5) or (x < 10)"
      ],
      "metadata": {
        "colab": {
          "base_uri": "https://localhost:8080/"
        },
        "id": "tRC6jtYOm2f9",
        "outputId": "5c0b9198-8232-48ed-a179-6c15e15da12b"
      },
      "execution_count": null,
      "outputs": [
        {
          "output_type": "execute_result",
          "data": {
            "text/plain": [
              "True"
            ]
          },
          "metadata": {},
          "execution_count": 18
        }
      ]
    },
    {
      "cell_type": "code",
      "source": [
        "x = 5\n",
        "(x < 10) and (x < 0) and (x==5)"
      ],
      "metadata": {
        "colab": {
          "base_uri": "https://localhost:8080/"
        },
        "id": "uyroY4UvnXLH",
        "outputId": "b8280c13-9a53-4669-b8c8-ab7b92248879"
      },
      "execution_count": null,
      "outputs": [
        {
          "output_type": "execute_result",
          "data": {
            "text/plain": [
              "False"
            ]
          },
          "metadata": {},
          "execution_count": 19
        }
      ]
    },
    {
      "cell_type": "code",
      "source": [
        "(x < 10) or (x < 0) and (x==5)"
      ],
      "metadata": {
        "colab": {
          "base_uri": "https://localhost:8080/"
        },
        "id": "5F3J39Nfn5rk",
        "outputId": "057ff358-2cf6-4d8d-fe7b-067bec563f52"
      },
      "execution_count": null,
      "outputs": [
        {
          "output_type": "execute_result",
          "data": {
            "text/plain": [
              "True"
            ]
          },
          "metadata": {},
          "execution_count": 20
        }
      ]
    },
    {
      "cell_type": "markdown",
      "source": [
        "## LIsts"
      ],
      "metadata": {
        "id": "sWbuBA2roMXD"
      }
    },
    {
      "cell_type": "code",
      "source": [
        "l1 = [\"apples\",\"bananas\",\"mangoes\"]\n",
        "\n",
        "#lists are mutable\n",
        "#either only numbers or only strings or both\n",
        "type(l1)"
      ],
      "metadata": {
        "colab": {
          "base_uri": "https://localhost:8080/"
        },
        "id": "_qgmc25VoBrJ",
        "outputId": "6ee48785-f891-4ec2-f34e-00afc48f22a0"
      },
      "execution_count": null,
      "outputs": [
        {
          "output_type": "execute_result",
          "data": {
            "text/plain": [
              "list"
            ]
          },
          "metadata": {},
          "execution_count": 21
        }
      ]
    },
    {
      "cell_type": "code",
      "source": [
        "l1 = (\"apples\",\"bananas\",\"mangoes\")\n",
        "l2 = list(l1)"
      ],
      "metadata": {
        "id": "RckyVzVaowyh"
      },
      "execution_count": null,
      "outputs": []
    },
    {
      "cell_type": "code",
      "source": [
        "l2"
      ],
      "metadata": {
        "colab": {
          "base_uri": "https://localhost:8080/"
        },
        "id": "UiRYzn9RpEfC",
        "outputId": "5cad95f5-7963-43ff-e46f-76427301f65e"
      },
      "execution_count": null,
      "outputs": [
        {
          "output_type": "execute_result",
          "data": {
            "text/plain": [
              "['apples', 'bananas', 'mangoes']"
            ]
          },
          "metadata": {},
          "execution_count": 23
        }
      ]
    },
    {
      "cell_type": "code",
      "source": [
        "l2[2]"
      ],
      "metadata": {
        "colab": {
          "base_uri": "https://localhost:8080/",
          "height": 35
        },
        "id": "azzFIQtgpFT3",
        "outputId": "b38e96b7-95e7-41ed-eff0-439a02807c8f"
      },
      "execution_count": null,
      "outputs": [
        {
          "output_type": "execute_result",
          "data": {
            "text/plain": [
              "'mangoes'"
            ],
            "application/vnd.google.colaboratory.intrinsic+json": {
              "type": "string"
            }
          },
          "metadata": {},
          "execution_count": 25
        }
      ]
    },
    {
      "cell_type": "code",
      "source": [
        "['apples', 'bananas', 'mangoes'] # positive positions[0,1,2] and negative positions[-3,-2-1]"
      ],
      "metadata": {
        "id": "KIdBcsPJpfQp"
      },
      "execution_count": null,
      "outputs": []
    },
    {
      "cell_type": "code",
      "source": [
        "l2[-2]"
      ],
      "metadata": {
        "colab": {
          "base_uri": "https://localhost:8080/",
          "height": 35
        },
        "id": "nyMHIMbpp9F8",
        "outputId": "e3343ed4-37a6-4d01-d9d7-ce1ac787cd9d"
      },
      "execution_count": null,
      "outputs": [
        {
          "output_type": "execute_result",
          "data": {
            "text/plain": [
              "'bananas'"
            ],
            "application/vnd.google.colaboratory.intrinsic+json": {
              "type": "string"
            }
          },
          "metadata": {},
          "execution_count": 26
        }
      ]
    },
    {
      "cell_type": "code",
      "source": [
        "thislist = [\"apple\", \"banana\", \"cherry\", \"orange\", \"kiwi\", \"melon\", \"mango\"]"
      ],
      "metadata": {
        "id": "9UxwCb2sp-TR"
      },
      "execution_count": null,
      "outputs": []
    },
    {
      "cell_type": "code",
      "source": [
        "thislist[1:5] # start:end it will always print from start till end-1"
      ],
      "metadata": {
        "colab": {
          "base_uri": "https://localhost:8080/"
        },
        "id": "rkVysBuKqCUj",
        "outputId": "2ee2d770-cdd6-4897-f55e-8da25efbf829"
      },
      "execution_count": null,
      "outputs": [
        {
          "output_type": "execute_result",
          "data": {
            "text/plain": [
              "['banana', 'cherry', 'orange', 'kiwi']"
            ]
          },
          "metadata": {},
          "execution_count": 30
        }
      ]
    },
    {
      "cell_type": "code",
      "source": [
        "thislist[0:4] # (startposition,endpoisiton-1)"
      ],
      "metadata": {
        "colab": {
          "base_uri": "https://localhost:8080/"
        },
        "id": "uBhruHKhqLBQ",
        "outputId": "bed32d68-991b-4033-ee7a-a0dbf2791773"
      },
      "execution_count": null,
      "outputs": [
        {
          "output_type": "execute_result",
          "data": {
            "text/plain": [
              "['apple', 'banana', 'cherry', 'orange']"
            ]
          },
          "metadata": {},
          "execution_count": 31
        }
      ]
    },
    {
      "cell_type": "code",
      "source": [
        "thislist[:4]"
      ],
      "metadata": {
        "id": "NoRtjo_OqduH"
      },
      "execution_count": null,
      "outputs": []
    },
    {
      "cell_type": "code",
      "source": [
        "thislist[-3:-1] # print from -3 to -1-1 = -2"
      ],
      "metadata": {
        "colab": {
          "base_uri": "https://localhost:8080/"
        },
        "id": "qu_XgW8JqldQ",
        "outputId": "d16781da-2b3b-4b13-ca04-3d28dbba75d5"
      },
      "execution_count": null,
      "outputs": [
        {
          "output_type": "execute_result",
          "data": {
            "text/plain": [
              "['kiwi', 'melon']"
            ]
          },
          "metadata": {},
          "execution_count": 32
        }
      ]
    },
    {
      "cell_type": "code",
      "source": [
        "thislist = [\"apple\", \"banana\", \"cherry\", \"orange\", \"kiwi\", \"melon\", \"mango\"]\n",
        "\n",
        "if \"Cherry\" in thislist: #question : do it using for loop\n",
        "  print ('hi')"
      ],
      "metadata": {
        "id": "r5V18H31qrCE"
      },
      "execution_count": null,
      "outputs": []
    },
    {
      "cell_type": "code",
      "source": [
        "#changing items in the list\n",
        "thislist[2] = 'watermelon'"
      ],
      "metadata": {
        "id": "V96kJofjrVqI"
      },
      "execution_count": null,
      "outputs": []
    },
    {
      "cell_type": "code",
      "source": [
        "thislist"
      ],
      "metadata": {
        "id": "Kb0_bIgnlky8",
        "colab": {
          "base_uri": "https://localhost:8080/"
        },
        "outputId": "f26669f6-9de2-4942-accd-19bb96264883"
      },
      "execution_count": null,
      "outputs": [
        {
          "output_type": "execute_result",
          "data": {
            "text/plain": [
              "['apple', 'banana', 'watermelon', 'orange', 'kiwi', 'melon', 'mango']"
            ]
          },
          "metadata": {},
          "execution_count": 6
        }
      ]
    },
    {
      "cell_type": "code",
      "source": [
        "thislist[1:3]"
      ],
      "metadata": {
        "colab": {
          "base_uri": "https://localhost:8080/"
        },
        "id": "FCT9XMZ1mEMY",
        "outputId": "bf4fb6ed-f0ff-4dd8-8c29-5976949e135a"
      },
      "execution_count": null,
      "outputs": [
        {
          "output_type": "execute_result",
          "data": {
            "text/plain": [
              "['banana', 'watermelon']"
            ]
          },
          "metadata": {},
          "execution_count": 7
        }
      ]
    },
    {
      "cell_type": "code",
      "source": [
        "thislist[1:3] = ['onoins','tomatos']"
      ],
      "metadata": {
        "id": "q1y8ZCb0mil6"
      },
      "execution_count": null,
      "outputs": []
    },
    {
      "cell_type": "code",
      "source": [
        "thislist"
      ],
      "metadata": {
        "id": "uwoUgZQ2m00G",
        "outputId": "368bb14c-fd61-457e-c49b-338a3acafbe2",
        "colab": {
          "base_uri": "https://localhost:8080/"
        }
      },
      "execution_count": null,
      "outputs": [
        {
          "output_type": "execute_result",
          "data": {
            "text/plain": [
              "['apple', 'onoins', 'tomatos', 'orange', 'kiwi', 'melon', 'mango']"
            ]
          },
          "metadata": {},
          "execution_count": 9
        }
      ]
    },
    {
      "cell_type": "code",
      "source": [
        "thislist = [\"apple\", \"banana\", \"cherry\", \"orange\", \"kiwi\", \"melon\", \"mango\"]\n",
        "thislist.insert(2,'eatermelon')\n",
        "thislist"
      ],
      "metadata": {
        "id": "eS-D4zLAm3W8",
        "outputId": "80e01458-4c1d-44c6-8aa8-7d2c9225c6a9",
        "colab": {
          "base_uri": "https://localhost:8080/"
        }
      },
      "execution_count": null,
      "outputs": [
        {
          "output_type": "execute_result",
          "data": {
            "text/plain": [
              "['apple', 'banana', 'eatermelon', 'cherry', 'orange', 'kiwi', 'melon', 'mango']"
            ]
          },
          "metadata": {},
          "execution_count": 11
        }
      ]
    },
    {
      "cell_type": "code",
      "source": [
        "thislist = [\"apple\", \"banana\", \"cherry\", \"orange\", \"kiwi\", \"melon\", \"mango\"]\n",
        "thislist.insert(-1,'eatermelon')\n",
        "thislist"
      ],
      "metadata": {
        "id": "eR3KM4x5nNYX",
        "outputId": "229d719a-a4cd-45e9-80a6-ee9e3a773ef4",
        "colab": {
          "base_uri": "https://localhost:8080/"
        }
      },
      "execution_count": null,
      "outputs": [
        {
          "output_type": "execute_result",
          "data": {
            "text/plain": [
              "['apple', 'banana', 'cherry', 'orange', 'kiwi', 'melon', 'eatermelon', 'mango']"
            ]
          },
          "metadata": {},
          "execution_count": 12
        }
      ]
    },
    {
      "cell_type": "code",
      "source": [
        "thislist = [\"apple\", \"banana\", \"cherry\", \"orange\", \"kiwi\", \"melon\", \"mango\"]\n",
        "\n",
        "thislist.append('eatermelon')"
      ],
      "metadata": {
        "id": "yvY0b6Hjnr_Q"
      },
      "execution_count": null,
      "outputs": []
    },
    {
      "cell_type": "code",
      "source": [
        "thislist"
      ],
      "metadata": {
        "id": "p4RzxZVLn8tx",
        "outputId": "d5391c9f-ad3f-4f70-8704-ce7115a50ce5",
        "colab": {
          "base_uri": "https://localhost:8080/"
        }
      },
      "execution_count": null,
      "outputs": [
        {
          "output_type": "execute_result",
          "data": {
            "text/plain": [
              "['apple', 'banana', 'cherry', 'orange', 'kiwi', 'melon', 'mango', 'eatermelon']"
            ]
          },
          "metadata": {},
          "execution_count": 16
        }
      ]
    },
    {
      "cell_type": "code",
      "source": [
        "l1 = [i for i in range(0,100)]\n",
        "\n",
        "even = []\n",
        "odd = []\n",
        "\n",
        "for i in l1:\n",
        "  if i%2 ==0:\n",
        "    even.append(i)\n",
        "  if i%2 !=0:\n",
        "    odd.append(i)\n",
        "print(even)"
      ],
      "metadata": {
        "id": "dtIJEiqAn966",
        "colab": {
          "base_uri": "https://localhost:8080/"
        },
        "outputId": "8da874e8-a494-48fc-cb97-0c37120f01b3"
      },
      "execution_count": null,
      "outputs": [
        {
          "output_type": "stream",
          "name": "stdout",
          "text": [
            "[0, 2, 4, 6, 8, 10, 12, 14, 16, 18, 20, 22, 24, 26, 28, 30, 32, 34, 36, 38, 40, 42, 44, 46, 48, 50, 52, 54, 56, 58, 60, 62, 64, 66, 68, 70, 72, 74, 76, 78, 80, 82, 84, 86, 88, 90, 92, 94, 96, 98]\n"
          ]
        }
      ]
    },
    {
      "cell_type": "code",
      "source": [
        "multiply = []\n",
        "for j in l1:\n",
        "  if j % 3 == 0:\n",
        "    multiply.append(j)"
      ],
      "metadata": {
        "id": "GsXCqPwOowH2"
      },
      "execution_count": null,
      "outputs": []
    },
    {
      "cell_type": "code",
      "source": [
        "thislist1 = [\"apple\", \"banana\", \"cherry\"]\n",
        "thislist2 = [\"orange\", \"kiwi\", \"melon\", \"mango\"]\n",
        "\n",
        "thislist1.extend(thislist2)"
      ],
      "metadata": {
        "id": "N2LsZJBXp7D9"
      },
      "execution_count": null,
      "outputs": []
    },
    {
      "cell_type": "code",
      "source": [
        "thislist1"
      ],
      "metadata": {
        "id": "uBfTwHU0skhW",
        "outputId": "a786b3eb-b65e-489d-b5e5-07c5e870b01d",
        "colab": {
          "base_uri": "https://localhost:8080/"
        }
      },
      "execution_count": null,
      "outputs": [
        {
          "output_type": "execute_result",
          "data": {
            "text/plain": [
              "['apple', 'banana', 'cherry', 'orange', 'kiwi', 'melon', 'mango']"
            ]
          },
          "metadata": {},
          "execution_count": 25
        }
      ]
    },
    {
      "cell_type": "code",
      "source": [
        "thislist = [\"apple\", \"banana\", \"cherry\", \"orange\", \"kiwi\", \"melon\", \"mango\"]\n",
        "\n",
        "# remove cherry from the list using indexing and extend"
      ],
      "metadata": {
        "id": "DERLNzjYsmdz"
      },
      "execution_count": null,
      "outputs": []
    },
    {
      "cell_type": "code",
      "source": [
        "l1 = thislist[:2]\n",
        "l2 = thislist[3:]"
      ],
      "metadata": {
        "id": "D4NDYrfxtrwn"
      },
      "execution_count": null,
      "outputs": []
    },
    {
      "cell_type": "code",
      "source": [
        "l2"
      ],
      "metadata": {
        "id": "-6a6jceQtxBv",
        "outputId": "bece0e75-9827-4fff-d107-802395f15bac",
        "colab": {
          "base_uri": "https://localhost:8080/"
        }
      },
      "execution_count": null,
      "outputs": [
        {
          "output_type": "execute_result",
          "data": {
            "text/plain": [
              "['orange', 'kiwi', 'melon', 'mango']"
            ]
          },
          "metadata": {},
          "execution_count": 31
        }
      ]
    },
    {
      "cell_type": "code",
      "source": [
        "l1"
      ],
      "metadata": {
        "id": "wiF_TDOdtyob",
        "outputId": "17d862ae-af1f-4283-c207-74035d039992",
        "colab": {
          "base_uri": "https://localhost:8080/"
        }
      },
      "execution_count": null,
      "outputs": [
        {
          "output_type": "execute_result",
          "data": {
            "text/plain": [
              "['apple', 'banana']"
            ]
          },
          "metadata": {},
          "execution_count": 32
        }
      ]
    },
    {
      "cell_type": "code",
      "source": [
        "l1.extend(l2)"
      ],
      "metadata": {
        "id": "5LhYFu0ltzzx"
      },
      "execution_count": null,
      "outputs": []
    },
    {
      "cell_type": "code",
      "source": [
        "l1"
      ],
      "metadata": {
        "id": "VBWNgMMHuHJ4",
        "outputId": "dff492d4-9631-4e42-af54-ff10fc9e06ac",
        "colab": {
          "base_uri": "https://localhost:8080/"
        }
      },
      "execution_count": null,
      "outputs": [
        {
          "output_type": "execute_result",
          "data": {
            "text/plain": [
              "['apple', 'banana', 'orange', 'kiwi', 'melon', 'mango']"
            ]
          },
          "metadata": {},
          "execution_count": 35
        }
      ]
    },
    {
      "cell_type": "code",
      "source": [
        "thislist = [\"apple\", \"banana\", \"cherry\", \"orange\", \"kiwi\", \"melon\", \"mango\"]\n",
        "thislist.remove('cherry')"
      ],
      "metadata": {
        "id": "2MPvHld7uKOn"
      },
      "execution_count": null,
      "outputs": []
    },
    {
      "cell_type": "code",
      "source": [
        "thislist"
      ],
      "metadata": {
        "id": "m1fO79AguVcq",
        "outputId": "9e0651a2-e6eb-448a-e6cb-1abe5ff78fda",
        "colab": {
          "base_uri": "https://localhost:8080/"
        }
      },
      "execution_count": null,
      "outputs": [
        {
          "output_type": "execute_result",
          "data": {
            "text/plain": [
              "['apple', 'banana', 'orange', 'kiwi', 'melon', 'mango']"
            ]
          },
          "metadata": {},
          "execution_count": 37
        }
      ]
    },
    {
      "cell_type": "code",
      "source": [
        "thislist = [\"apple\", \"banana\", \"cherry\", \"orange\", \"kiwi\", \"melon\", \"mango\"]\n",
        "thislist.pop(2)"
      ],
      "metadata": {
        "id": "FrpDN0FNuWke",
        "outputId": "41c9da7b-f7a7-474e-828f-ce9a48da7144",
        "colab": {
          "base_uri": "https://localhost:8080/",
          "height": 35
        }
      },
      "execution_count": null,
      "outputs": [
        {
          "output_type": "execute_result",
          "data": {
            "text/plain": [
              "'cherry'"
            ],
            "application/vnd.google.colaboratory.intrinsic+json": {
              "type": "string"
            }
          },
          "metadata": {},
          "execution_count": 39
        }
      ]
    },
    {
      "cell_type": "code",
      "source": [
        "thislist"
      ],
      "metadata": {
        "id": "66NivRMAugrk",
        "outputId": "36d8ad79-553f-47cd-9dcc-bbae69431dad",
        "colab": {
          "base_uri": "https://localhost:8080/"
        }
      },
      "execution_count": null,
      "outputs": [
        {
          "output_type": "execute_result",
          "data": {
            "text/plain": [
              "['apple', 'banana', 'orange', 'kiwi', 'melon', 'mango']"
            ]
          },
          "metadata": {},
          "execution_count": 40
        }
      ]
    },
    {
      "cell_type": "code",
      "source": [
        "#looping throught the list"
      ],
      "metadata": {
        "id": "tf0h5XdhujiT"
      },
      "execution_count": null,
      "outputs": []
    },
    {
      "cell_type": "code",
      "source": [
        "thislist = [\"apple\", \"banana\", \"cherry\", \"orange\", \"kiwi\", \"melon\", \"mango\"]\n",
        "for i  in thislist:\n",
        "  print (i)"
      ],
      "metadata": {
        "id": "kyBHrFwRu__V",
        "outputId": "d55b20c3-bf0b-4c10-a4ec-77573b872b1d",
        "colab": {
          "base_uri": "https://localhost:8080/"
        }
      },
      "execution_count": null,
      "outputs": [
        {
          "output_type": "stream",
          "name": "stdout",
          "text": [
            "apple\n",
            "banana\n",
            "cherry\n",
            "orange\n",
            "kiwi\n",
            "melon\n",
            "mango\n"
          ]
        }
      ]
    },
    {
      "cell_type": "code",
      "source": [
        "for i in range(0,len(thislist)):\n",
        "  print (thislist[i])"
      ],
      "metadata": {
        "id": "5XTrMz9qvf8k",
        "outputId": "81a26d56-e4f9-4175-eba3-7919a6523f98",
        "colab": {
          "base_uri": "https://localhost:8080/"
        }
      },
      "execution_count": null,
      "outputs": [
        {
          "output_type": "stream",
          "name": "stdout",
          "text": [
            "apple\n",
            "banana\n",
            "cherry\n",
            "orange\n",
            "kiwi\n",
            "melon\n",
            "mango\n"
          ]
        }
      ]
    },
    {
      "cell_type": "code",
      "source": [
        "i = 0#1\n",
        "while(i<len(thislist)):#2\n",
        "  print (thislist[i])\n",
        "  i = i+1#3"
      ],
      "metadata": {
        "id": "J2bwPrDjwWRM",
        "outputId": "0f1039ef-35b1-4543-bbbb-5382887f6448",
        "colab": {
          "base_uri": "https://localhost:8080/"
        }
      },
      "execution_count": null,
      "outputs": [
        {
          "output_type": "stream",
          "name": "stdout",
          "text": [
            "apple\n",
            "banana\n",
            "cherry\n",
            "orange\n",
            "kiwi\n",
            "melon\n",
            "mango\n"
          ]
        }
      ]
    },
    {
      "cell_type": "code",
      "source": [
        "[print(x) for x in thislist]"
      ],
      "metadata": {
        "id": "nyYBwIsKw5BC",
        "outputId": "3bc93c45-c7c2-4d45-99cf-c80155ee2d21",
        "colab": {
          "base_uri": "https://localhost:8080/"
        }
      },
      "execution_count": null,
      "outputs": [
        {
          "output_type": "stream",
          "name": "stdout",
          "text": [
            "apple\n",
            "banana\n",
            "cherry\n",
            "orange\n",
            "kiwi\n",
            "melon\n",
            "mango\n"
          ]
        },
        {
          "output_type": "execute_result",
          "data": {
            "text/plain": [
              "[None, None, None, None, None, None, None]"
            ]
          },
          "metadata": {},
          "execution_count": 45
        }
      ]
    },
    {
      "cell_type": "code",
      "source": [
        "thislist = [\"apple\", \"banana\", \"cherry\", \"orange\", \"kiwi\", \"melon\", \"mango\"]\n",
        "newlist = []\n",
        "\n",
        "####\n",
        "# TODO : append elemts to the newlist of charcter a is present in the word\n",
        "###\n",
        "\n",
        "for i in thislist:\n",
        "  if 'a'in i:\n",
        "    newlist.append(i)\n",
        "print (newlist)"
      ],
      "metadata": {
        "id": "ueiwBXKYxpsI",
        "outputId": "3a529f69-4acf-4032-c1cc-edac43fae54d",
        "colab": {
          "base_uri": "https://localhost:8080/"
        }
      },
      "execution_count": null,
      "outputs": [
        {
          "output_type": "stream",
          "name": "stdout",
          "text": [
            "['apple', 'banana', 'orange', 'mango']\n"
          ]
        }
      ]
    },
    {
      "cell_type": "code",
      "source": [
        "newlist = [x for x in thislist if 'a' in x]"
      ],
      "metadata": {
        "id": "8Vzj-kwQzFIm"
      },
      "execution_count": null,
      "outputs": []
    },
    {
      "cell_type": "code",
      "source": [
        "newlist"
      ],
      "metadata": {
        "id": "uIY9HPVpzYjz",
        "outputId": "a64612e2-6452-44a2-d729-fbf69c9a9ff4",
        "colab": {
          "base_uri": "https://localhost:8080/"
        }
      },
      "execution_count": null,
      "outputs": [
        {
          "output_type": "execute_result",
          "data": {
            "text/plain": [
              "['apple', 'banana', 'orange', 'mango']"
            ]
          },
          "metadata": {},
          "execution_count": 49
        }
      ]
    },
    {
      "cell_type": "code",
      "source": [
        "## sorting"
      ],
      "metadata": {
        "id": "PjLuc1znzZdf"
      },
      "execution_count": null,
      "outputs": []
    },
    {
      "cell_type": "code",
      "source": [
        "thislist = [100, 50, 65, 82, 23]\n",
        "thislist.sort()"
      ],
      "metadata": {
        "id": "oXP4byCbz28F"
      },
      "execution_count": null,
      "outputs": []
    },
    {
      "cell_type": "code",
      "source": [
        "thislist"
      ],
      "metadata": {
        "id": "j-zgwmpJz_Cb",
        "outputId": "52eaab9b-9f21-4085-82a1-ab583ae75d58",
        "colab": {
          "base_uri": "https://localhost:8080/"
        }
      },
      "execution_count": null,
      "outputs": [
        {
          "output_type": "execute_result",
          "data": {
            "text/plain": [
              "[23, 50, 65, 82, 100]"
            ]
          },
          "metadata": {},
          "execution_count": 52
        }
      ]
    },
    {
      "cell_type": "code",
      "source": [
        "thislist.sort(reverse = True)"
      ],
      "metadata": {
        "id": "Nbb07mSX0A1T"
      },
      "execution_count": null,
      "outputs": []
    },
    {
      "cell_type": "code",
      "source": [
        "thislist"
      ],
      "metadata": {
        "id": "zbPt-SjS0Hfq",
        "outputId": "85af2e51-3841-4f6b-d1f7-81c2d1b95de0",
        "colab": {
          "base_uri": "https://localhost:8080/"
        }
      },
      "execution_count": null,
      "outputs": [
        {
          "output_type": "execute_result",
          "data": {
            "text/plain": [
              "[100, 82, 65, 50, 23]"
            ]
          },
          "metadata": {},
          "execution_count": 54
        }
      ]
    },
    {
      "cell_type": "code",
      "source": [
        "# create a function that calculates n-50 and check it this is less that zero you have to multply with -1"
      ],
      "metadata": {
        "id": "PFPYGZqk0I5M"
      },
      "execution_count": null,
      "outputs": []
    },
    {
      "cell_type": "code",
      "source": [
        "def func1(n):\n",
        "  i = n-50\n",
        "  if i < 0:\n",
        "    i *= -1\n",
        "  return i"
      ],
      "metadata": {
        "id": "cTqiCErQ1Ugs"
      },
      "execution_count": null,
      "outputs": []
    },
    {
      "cell_type": "code",
      "source": [
        "func1(10)"
      ],
      "metadata": {
        "id": "Vg-HDHZD1nv2",
        "outputId": "70dbe8b3-51d6-4d70-f235-495c9568131f",
        "colab": {
          "base_uri": "https://localhost:8080/"
        }
      },
      "execution_count": null,
      "outputs": [
        {
          "output_type": "execute_result",
          "data": {
            "text/plain": [
              "40"
            ]
          },
          "metadata": {},
          "execution_count": 57
        }
      ]
    },
    {
      "cell_type": "code",
      "source": [
        "thislist = [100, 50, 65, 82, 23]\n",
        "thislist.sort(key = func1)"
      ],
      "metadata": {
        "id": "iXmFfqf_1pvt"
      },
      "execution_count": null,
      "outputs": []
    },
    {
      "cell_type": "code",
      "source": [
        "thislist"
      ],
      "metadata": {
        "id": "av-Zm0ke13Bu",
        "outputId": "0190ae20-b59c-4b2d-d337-e1ffdb2e8628",
        "colab": {
          "base_uri": "https://localhost:8080/"
        }
      },
      "execution_count": null,
      "outputs": [
        {
          "output_type": "execute_result",
          "data": {
            "text/plain": [
              "[50, 65, 23, 82, 100]"
            ]
          },
          "metadata": {},
          "execution_count": 59
        }
      ]
    },
    {
      "cell_type": "code",
      "source": [
        "'''\n",
        "[50,0,15,32,27]\n",
        "[0,1,2,3,4]\n",
        "Sorted position [1,2,4,3,0]\n",
        "\n",
        "'''"
      ],
      "metadata": {
        "id": "CMBJ-Zve2-w_"
      },
      "execution_count": null,
      "outputs": []
    },
    {
      "cell_type": "markdown",
      "source": [
        "## copy lists"
      ],
      "metadata": {
        "id": "TmLuTyYyL0CZ"
      }
    },
    {
      "cell_type": "code",
      "source": [
        "list1 = [12,23,546,768]\n",
        "list2 = list1.copy()"
      ],
      "metadata": {
        "id": "BKATPHW4LFz6"
      },
      "execution_count": null,
      "outputs": []
    },
    {
      "cell_type": "code",
      "source": [
        "list2"
      ],
      "metadata": {
        "colab": {
          "base_uri": "https://localhost:8080/"
        },
        "id": "DRYAYZJ1MTie",
        "outputId": "f1060a24-5136-40bd-bc3a-a590a3c38a83"
      },
      "execution_count": null,
      "outputs": [
        {
          "output_type": "execute_result",
          "data": {
            "text/plain": [
              "[12, 23, 546, 768]"
            ]
          },
          "metadata": {},
          "execution_count": 2
        }
      ]
    },
    {
      "cell_type": "code",
      "source": [
        "list2[2] = 45"
      ],
      "metadata": {
        "id": "5bHAd8CiMVLj"
      },
      "execution_count": null,
      "outputs": []
    },
    {
      "cell_type": "code",
      "source": [
        "list2"
      ],
      "metadata": {
        "colab": {
          "base_uri": "https://localhost:8080/"
        },
        "id": "aL490hxeMdZD",
        "outputId": "8f5aaef8-2388-418b-9623-74021da840e2"
      },
      "execution_count": null,
      "outputs": [
        {
          "output_type": "execute_result",
          "data": {
            "text/plain": [
              "[12, 23, 45, 768]"
            ]
          },
          "metadata": {},
          "execution_count": 4
        }
      ]
    },
    {
      "cell_type": "code",
      "source": [
        "list1"
      ],
      "metadata": {
        "colab": {
          "base_uri": "https://localhost:8080/"
        },
        "id": "1qOAN0MSMeJX",
        "outputId": "0cb1a83a-9152-4a6b-ea15-f2bf3c1c360c"
      },
      "execution_count": null,
      "outputs": [
        {
          "output_type": "execute_result",
          "data": {
            "text/plain": [
              "[12, 23, 546, 768]"
            ]
          },
          "metadata": {},
          "execution_count": 5
        }
      ]
    },
    {
      "cell_type": "code",
      "source": [
        "list1[2] = 21"
      ],
      "metadata": {
        "id": "Dcb2iEEuMfTz"
      },
      "execution_count": null,
      "outputs": []
    },
    {
      "cell_type": "code",
      "source": [
        "list1"
      ],
      "metadata": {
        "colab": {
          "base_uri": "https://localhost:8080/"
        },
        "id": "nls6Mbq0Mnia",
        "outputId": "594b49c4-93d8-4c21-f7a8-580fbe599cea"
      },
      "execution_count": null,
      "outputs": [
        {
          "output_type": "execute_result",
          "data": {
            "text/plain": [
              "[12, 23, 21, 768]"
            ]
          },
          "metadata": {},
          "execution_count": 7
        }
      ]
    },
    {
      "cell_type": "code",
      "source": [
        "list2 #these are called objects"
      ],
      "metadata": {
        "colab": {
          "base_uri": "https://localhost:8080/"
        },
        "id": "U--OEBOOModO",
        "outputId": "b87b388c-334e-4323-8f19-a5b22f174836"
      },
      "execution_count": null,
      "outputs": [
        {
          "output_type": "execute_result",
          "data": {
            "text/plain": [
              "[12, 23, 45, 768]"
            ]
          },
          "metadata": {},
          "execution_count": 8
        }
      ]
    },
    {
      "cell_type": "code",
      "source": [
        "list1 = [\"a\",\"b\",\"c\"]\n",
        "list2 = [1,2,3]"
      ],
      "metadata": {
        "id": "_FHbmqfmMpi6"
      },
      "execution_count": null,
      "outputs": []
    },
    {
      "cell_type": "code",
      "source": [
        "list1 + list2"
      ],
      "metadata": {
        "colab": {
          "base_uri": "https://localhost:8080/"
        },
        "id": "D3_X0VHPN9BK",
        "outputId": "689bce98-cab0-4e66-b186-f2384f8f733f"
      },
      "execution_count": null,
      "outputs": [
        {
          "output_type": "execute_result",
          "data": {
            "text/plain": [
              "['a', 'b', 'c', 1, 2, 3]"
            ]
          },
          "metadata": {},
          "execution_count": 10
        }
      ]
    },
    {
      "cell_type": "code",
      "source": [
        "for i in list2:\n",
        "  list1.append(i)"
      ],
      "metadata": {
        "id": "9rDt3ohkN-Y4"
      },
      "execution_count": null,
      "outputs": []
    },
    {
      "cell_type": "code",
      "source": [
        "list1"
      ],
      "metadata": {
        "colab": {
          "base_uri": "https://localhost:8080/"
        },
        "id": "vo8RdSOvOmHK",
        "outputId": "a17265a4-64f7-4ed9-f193-6dee2b3d4b42"
      },
      "execution_count": null,
      "outputs": [
        {
          "output_type": "execute_result",
          "data": {
            "text/plain": [
              "['a', 'b', 'c', 1, 2, 3]"
            ]
          },
          "metadata": {},
          "execution_count": 12
        }
      ]
    },
    {
      "cell_type": "markdown",
      "source": [
        "## TUples"
      ],
      "metadata": {
        "id": "zNudGjQdOxwL"
      }
    },
    {
      "cell_type": "code",
      "source": [
        "tup1 = ('aj','an','by')\n",
        "print (tup1)"
      ],
      "metadata": {
        "colab": {
          "base_uri": "https://localhost:8080/"
        },
        "id": "kVlbCliIOnQz",
        "outputId": "b7c4f011-daf2-4905-dafd-3c654c1d1845"
      },
      "execution_count": null,
      "outputs": [
        {
          "output_type": "stream",
          "name": "stdout",
          "text": [
            "('aj', 'an', 'by')\n"
          ]
        }
      ]
    },
    {
      "cell_type": "code",
      "source": [
        "tup1.append('b')"
      ],
      "metadata": {
        "colab": {
          "base_uri": "https://localhost:8080/",
          "height": 166
        },
        "id": "OHP5W-9PO_VL",
        "outputId": "03a5de73-63a3-47fb-c962-0b466353049c"
      },
      "execution_count": null,
      "outputs": [
        {
          "output_type": "error",
          "ename": "AttributeError",
          "evalue": "ignored",
          "traceback": [
            "\u001b[0;31m---------------------------------------------------------------------------\u001b[0m",
            "\u001b[0;31mAttributeError\u001b[0m                            Traceback (most recent call last)",
            "\u001b[0;32m<ipython-input-16-399f8d6ddd82>\u001b[0m in \u001b[0;36m<cell line: 1>\u001b[0;34m()\u001b[0m\n\u001b[0;32m----> 1\u001b[0;31m \u001b[0mtup1\u001b[0m\u001b[0;34m.\u001b[0m\u001b[0mappend\u001b[0m\u001b[0;34m(\u001b[0m\u001b[0;34m'b'\u001b[0m\u001b[0;34m)\u001b[0m\u001b[0;34m\u001b[0m\u001b[0;34m\u001b[0m\u001b[0m\n\u001b[0m",
            "\u001b[0;31mAttributeError\u001b[0m: 'tuple' object has no attribute 'append'"
          ]
        }
      ]
    },
    {
      "cell_type": "code",
      "source": [
        "len(tup1)"
      ],
      "metadata": {
        "colab": {
          "base_uri": "https://localhost:8080/"
        },
        "id": "W1U0fmhoPed4",
        "outputId": "a27fc40e-58a8-43de-826a-923845d809d4"
      },
      "execution_count": null,
      "outputs": [
        {
          "output_type": "execute_result",
          "data": {
            "text/plain": [
              "3"
            ]
          },
          "metadata": {},
          "execution_count": 17
        }
      ]
    },
    {
      "cell_type": "code",
      "source": [
        "type(tup1)"
      ],
      "metadata": {
        "colab": {
          "base_uri": "https://localhost:8080/"
        },
        "id": "xmhGCLxWPs5u",
        "outputId": "b1db3543-f225-4318-c22a-edb4fb787d21"
      },
      "execution_count": null,
      "outputs": [
        {
          "output_type": "execute_result",
          "data": {
            "text/plain": [
              "tuple"
            ]
          },
          "metadata": {},
          "execution_count": 18
        }
      ]
    },
    {
      "cell_type": "code",
      "source": [
        "a1 = (\"apple\",)\n",
        "print (a1)"
      ],
      "metadata": {
        "colab": {
          "base_uri": "https://localhost:8080/"
        },
        "id": "4XsR9yWCPxK8",
        "outputId": "1edaaad9-22e2-40e9-9864-2efdbf214b3a"
      },
      "execution_count": null,
      "outputs": [
        {
          "output_type": "stream",
          "name": "stdout",
          "text": [
            "('apple',)\n"
          ]
        }
      ]
    },
    {
      "cell_type": "code",
      "source": [
        "print (type(a1))"
      ],
      "metadata": {
        "colab": {
          "base_uri": "https://localhost:8080/"
        },
        "id": "Bfpp3W5NQGnX",
        "outputId": "ab744f0b-59f1-45f3-9811-c8599f4c6fac"
      },
      "execution_count": null,
      "outputs": [
        {
          "output_type": "stream",
          "name": "stdout",
          "text": [
            "<class 'tuple'>\n"
          ]
        }
      ]
    },
    {
      "cell_type": "code",
      "source": [
        "tup1 = ('aj','an','by')\n",
        "tup1 = list(tup1)\n",
        "tup1.append('cz')\n",
        "tup1 = tuple(tup1)\n",
        "print (tup1)"
      ],
      "metadata": {
        "colab": {
          "base_uri": "https://localhost:8080/"
        },
        "id": "WVym_TAwQJaW",
        "outputId": "eafcadec-1dff-4663-b06b-c522dca993fa"
      },
      "execution_count": null,
      "outputs": [
        {
          "output_type": "stream",
          "name": "stdout",
          "text": [
            "('aj', 'an', 'by', 'cz')\n"
          ]
        }
      ]
    },
    {
      "cell_type": "code",
      "source": [
        "thistuple = (\"apple\", \"banana\", \"cherry\")\n",
        "y = (\"orange\",)\n",
        "\n",
        "thistuple + y"
      ],
      "metadata": {
        "colab": {
          "base_uri": "https://localhost:8080/"
        },
        "id": "yr_vSjChQ2W4",
        "outputId": "dcc708f4-0891-41bb-bd30-31442ecd7919"
      },
      "execution_count": null,
      "outputs": [
        {
          "output_type": "execute_result",
          "data": {
            "text/plain": [
              "('apple', 'banana', 'cherry', 'orange')"
            ]
          },
          "metadata": {},
          "execution_count": 24
        }
      ]
    },
    {
      "cell_type": "markdown",
      "source": [
        "## Unpack"
      ],
      "metadata": {
        "id": "0EbN5uAbRagz"
      }
    },
    {
      "cell_type": "code",
      "source": [
        "thistuple = (\"apple\", \"banana\", \"cherry\")"
      ],
      "metadata": {
        "id": "YiHjZG8CRDtM"
      },
      "execution_count": null,
      "outputs": []
    },
    {
      "cell_type": "code",
      "source": [
        "(a,b,c) = thistuple"
      ],
      "metadata": {
        "id": "D9fswzQgRfOe"
      },
      "execution_count": null,
      "outputs": []
    },
    {
      "cell_type": "code",
      "source": [
        "a"
      ],
      "metadata": {
        "colab": {
          "base_uri": "https://localhost:8080/",
          "height": 35
        },
        "id": "-6VIdKfRRmFP",
        "outputId": "ff8e6497-39df-47ca-e3ae-0a01a620563c"
      },
      "execution_count": null,
      "outputs": [
        {
          "output_type": "execute_result",
          "data": {
            "text/plain": [
              "'apple'"
            ],
            "application/vnd.google.colaboratory.intrinsic+json": {
              "type": "string"
            }
          },
          "metadata": {},
          "execution_count": 27
        }
      ]
    },
    {
      "cell_type": "code",
      "source": [
        "b"
      ],
      "metadata": {
        "colab": {
          "base_uri": "https://localhost:8080/",
          "height": 35
        },
        "id": "g5N0A7VtRnYH",
        "outputId": "43c44cb4-815a-4509-c112-c6cb167940c4"
      },
      "execution_count": null,
      "outputs": [
        {
          "output_type": "execute_result",
          "data": {
            "text/plain": [
              "'banana'"
            ],
            "application/vnd.google.colaboratory.intrinsic+json": {
              "type": "string"
            }
          },
          "metadata": {},
          "execution_count": 29
        }
      ]
    },
    {
      "cell_type": "code",
      "source": [
        "c"
      ],
      "metadata": {
        "colab": {
          "base_uri": "https://localhost:8080/",
          "height": 35
        },
        "id": "6bvfFc_-Ro0l",
        "outputId": "d54cdc93-be0b-41df-bf46-041b9d0d7638"
      },
      "execution_count": null,
      "outputs": [
        {
          "output_type": "execute_result",
          "data": {
            "text/plain": [
              "'cherry'"
            ],
            "application/vnd.google.colaboratory.intrinsic+json": {
              "type": "string"
            }
          },
          "metadata": {},
          "execution_count": 30
        }
      ]
    },
    {
      "cell_type": "code",
      "source": [
        "thistuple = (\"apple\", \"banana\", \"cherry\")\n",
        "(a,*b) = thistuple"
      ],
      "metadata": {
        "id": "1GRIjzlIRrCn"
      },
      "execution_count": null,
      "outputs": []
    },
    {
      "cell_type": "code",
      "source": [
        "a"
      ],
      "metadata": {
        "colab": {
          "base_uri": "https://localhost:8080/",
          "height": 35
        },
        "id": "-OvAbYT7Rw9l",
        "outputId": "202fb9c9-0505-4177-c24f-0ab648698d99"
      },
      "execution_count": null,
      "outputs": [
        {
          "output_type": "execute_result",
          "data": {
            "text/plain": [
              "'apple'"
            ],
            "application/vnd.google.colaboratory.intrinsic+json": {
              "type": "string"
            }
          },
          "metadata": {},
          "execution_count": 33
        }
      ]
    },
    {
      "cell_type": "code",
      "source": [
        "b"
      ],
      "metadata": {
        "colab": {
          "base_uri": "https://localhost:8080/"
        },
        "id": "PuvzscTzR4wC",
        "outputId": "353560a4-6da1-4752-fda5-04f37bcc0d61"
      },
      "execution_count": null,
      "outputs": [
        {
          "output_type": "execute_result",
          "data": {
            "text/plain": [
              "['banana', 'cherry']"
            ]
          },
          "metadata": {},
          "execution_count": 34
        }
      ]
    },
    {
      "cell_type": "code",
      "source": [
        "for i in thistuple:\n",
        "  print (i)"
      ],
      "metadata": {
        "colab": {
          "base_uri": "https://localhost:8080/"
        },
        "id": "ZXvNtrnlR5z6",
        "outputId": "f685e3b3-9f15-4bb1-f1de-3e52bf32e6de"
      },
      "execution_count": null,
      "outputs": [
        {
          "output_type": "stream",
          "name": "stdout",
          "text": [
            "apple\n",
            "banana\n",
            "cherry\n"
          ]
        }
      ]
    },
    {
      "cell_type": "code",
      "source": [
        "for j in range(0,len(thistuple)):\n",
        "  print (thistuple[j])"
      ],
      "metadata": {
        "colab": {
          "base_uri": "https://localhost:8080/"
        },
        "id": "4LL47DrqSZWi",
        "outputId": "f2042e07-a6c1-4d5c-f8c3-5fc9d9817823"
      },
      "execution_count": null,
      "outputs": [
        {
          "output_type": "stream",
          "name": "stdout",
          "text": [
            "apple\n",
            "banana\n",
            "cherry\n"
          ]
        }
      ]
    },
    {
      "cell_type": "code",
      "source": [
        "j = 0\n",
        "\n",
        "while(j<len(thistuple)):\n",
        "  print (thistuple[j])\n",
        "  j = j+1"
      ],
      "metadata": {
        "colab": {
          "base_uri": "https://localhost:8080/"
        },
        "id": "JTpx5bETSmxe",
        "outputId": "430d8c8e-ffdf-4764-cfff-9b054536577b"
      },
      "execution_count": null,
      "outputs": [
        {
          "output_type": "stream",
          "name": "stdout",
          "text": [
            "apple\n",
            "banana\n",
            "cherry\n"
          ]
        }
      ]
    },
    {
      "cell_type": "markdown",
      "source": [
        "## Sets"
      ],
      "metadata": {
        "id": "gEUwVx7vUPf9"
      }
    },
    {
      "cell_type": "code",
      "source": [
        "# sets unordererd, unchangeable, unindexed"
      ],
      "metadata": {
        "id": "ZrstJF96Tvgr"
      },
      "execution_count": null,
      "outputs": []
    },
    {
      "cell_type": "code",
      "source": [
        "myset = {\"coconut\",\"mango\",\"orange\"}"
      ],
      "metadata": {
        "id": "lWtX-U_6Ugr_"
      },
      "execution_count": null,
      "outputs": []
    },
    {
      "cell_type": "code",
      "source": [
        "myset = {\"coconut\",\"mango\",\"orange\",\"orange\"}\n",
        "mytup = (\"coconut\",\"mango\",\"orange\",\"orange\")\n",
        "mylist = [\"coconut\",\"mango\",\"orange\",\"orange\"]\n",
        "\n",
        "print (myset)\n",
        "print (mytup)\n",
        "print (mylist)"
      ],
      "metadata": {
        "colab": {
          "base_uri": "https://localhost:8080/"
        },
        "id": "3FB689Q-Uu2l",
        "outputId": "ea5b4c7f-63e8-4a7d-ed84-c2626a57c303"
      },
      "execution_count": null,
      "outputs": [
        {
          "output_type": "stream",
          "name": "stdout",
          "text": [
            "{'orange', 'coconut', 'mango'}\n",
            "('coconut', 'mango', 'orange', 'orange')\n",
            "['coconut', 'mango', 'orange', 'orange']\n"
          ]
        }
      ]
    },
    {
      "cell_type": "code",
      "source": [
        "thisset = {\"apple\", \"banana\", \"cherry\", True, 1, 2}\n",
        "\n",
        "print(thisset) #sets treat True and 1 as same"
      ],
      "metadata": {
        "colab": {
          "base_uri": "https://localhost:8080/"
        },
        "id": "1P8sr9rCUoJu",
        "outputId": "1963e29a-fe5e-4fbf-c1d1-612b7246d945"
      },
      "execution_count": null,
      "outputs": [
        {
          "output_type": "stream",
          "name": "stdout",
          "text": [
            "{'banana', True, 2, 'cherry', 'apple'}\n"
          ]
        }
      ]
    },
    {
      "cell_type": "code",
      "source": [
        "type(thisset)"
      ],
      "metadata": {
        "colab": {
          "base_uri": "https://localhost:8080/"
        },
        "id": "WmDiWKW2UsRh",
        "outputId": "5d2750e0-108b-47a4-9608-bc5e12010f11"
      },
      "execution_count": null,
      "outputs": [
        {
          "output_type": "execute_result",
          "data": {
            "text/plain": [
              "set"
            ]
          },
          "metadata": {},
          "execution_count": 43
        }
      ]
    },
    {
      "cell_type": "code",
      "source": [
        "len(thisset)"
      ],
      "metadata": {
        "colab": {
          "base_uri": "https://localhost:8080/"
        },
        "id": "JCF_kNm3Vmlu",
        "outputId": "354618bc-8e5a-4032-d37b-b21cc07a3351"
      },
      "execution_count": null,
      "outputs": [
        {
          "output_type": "execute_result",
          "data": {
            "text/plain": [
              "5"
            ]
          },
          "metadata": {},
          "execution_count": 45
        }
      ]
    },
    {
      "cell_type": "code",
      "source": [
        "thisset = {\"apple\", \"banana\", \"cherry\"}\n",
        "thisset.add(\"orange\")\n",
        "print(thisset)"
      ],
      "metadata": {
        "colab": {
          "base_uri": "https://localhost:8080/"
        },
        "id": "tIoZi7IIVnp6",
        "outputId": "3045d644-ed97-4185-837b-6349f61f7973"
      },
      "execution_count": null,
      "outputs": [
        {
          "output_type": "stream",
          "name": "stdout",
          "text": [
            "{'banana', 'cherry', 'orange', 'apple'}\n"
          ]
        }
      ]
    },
    {
      "cell_type": "code",
      "source": [
        "thisset = {\"apple\", \"banana\", \"cherry\"}\n",
        "tropical = {\"pineapple\", \"mango\", \"papaya\"}\n",
        "\n",
        "thisset.update(tropical)\n",
        "\n",
        "print(thisset)"
      ],
      "metadata": {
        "colab": {
          "base_uri": "https://localhost:8080/"
        },
        "id": "_1OAcpU6Vxn6",
        "outputId": "14beeb9c-2703-4b38-aff2-14d1bbe74c30"
      },
      "execution_count": null,
      "outputs": [
        {
          "output_type": "stream",
          "name": "stdout",
          "text": [
            "{'banana', 'cherry', 'apple', 'mango', 'papaya', 'pineapple'}\n"
          ]
        }
      ]
    },
    {
      "cell_type": "code",
      "source": [
        "a = {'a','b','c'}\n",
        "b = {1,2,3}\n",
        "\n",
        "a.union(b)"
      ],
      "metadata": {
        "colab": {
          "base_uri": "https://localhost:8080/"
        },
        "id": "gz3Gz1bJV4us",
        "outputId": "66ac99ed-79b4-4eca-cf2f-5d6dfd33ae54"
      },
      "execution_count": null,
      "outputs": [
        {
          "output_type": "execute_result",
          "data": {
            "text/plain": [
              "{1, 2, 3, 'a', 'b', 'c'}"
            ]
          },
          "metadata": {},
          "execution_count": 48
        }
      ]
    },
    {
      "cell_type": "markdown",
      "source": [
        "## Dictionaries"
      ],
      "metadata": {
        "id": "DR-gzSkvWSMC"
      }
    },
    {
      "cell_type": "code",
      "source": [
        "thisdict = {'Manoj':76,'Ram':46,'Vinay':56,'Nikhil':66} #{key:value}"
      ],
      "metadata": {
        "id": "BDU_IHKqWLFR"
      },
      "execution_count": null,
      "outputs": []
    },
    {
      "cell_type": "code",
      "source": [
        "thisdict"
      ],
      "metadata": {
        "colab": {
          "base_uri": "https://localhost:8080/"
        },
        "id": "XtWKf887YgT4",
        "outputId": "4e49bf5f-79d9-4d18-cb56-7672e73ee296"
      },
      "execution_count": null,
      "outputs": [
        {
          "output_type": "execute_result",
          "data": {
            "text/plain": [
              "{'Manoj': 76, 'Ram': 46, 'Vinay': 56, 'Nikhil': 66}"
            ]
          },
          "metadata": {},
          "execution_count": 51
        }
      ]
    },
    {
      "cell_type": "code",
      "source": [
        "thisdict['Vinay']"
      ],
      "metadata": {
        "colab": {
          "base_uri": "https://localhost:8080/"
        },
        "id": "B4v6obmYYhQJ",
        "outputId": "79765619-601b-4aee-abe5-158dc137d285"
      },
      "execution_count": null,
      "outputs": [
        {
          "output_type": "execute_result",
          "data": {
            "text/plain": [
              "56"
            ]
          },
          "metadata": {},
          "execution_count": 52
        }
      ]
    },
    {
      "cell_type": "code",
      "source": [
        "thisdict = {'Manoj':76,'Ram':46,'Vinay':56,'Nikhil':66,'Nikhil':76}"
      ],
      "metadata": {
        "id": "7aLX_JLGY3ux"
      },
      "execution_count": null,
      "outputs": []
    },
    {
      "cell_type": "code",
      "source": [
        "thisdict"
      ],
      "metadata": {
        "colab": {
          "base_uri": "https://localhost:8080/"
        },
        "id": "dfDtosm-ZH62",
        "outputId": "b834a01c-e7a5-4a22-896b-f0d36f105dc8"
      },
      "execution_count": null,
      "outputs": [
        {
          "output_type": "execute_result",
          "data": {
            "text/plain": [
              "{'Manoj': 76, 'Ram': 46, 'Vinay': 56, 'Nikhil': 76}"
            ]
          },
          "metadata": {},
          "execution_count": 54
        }
      ]
    },
    {
      "cell_type": "code",
      "source": [
        "len(thisdict)"
      ],
      "metadata": {
        "colab": {
          "base_uri": "https://localhost:8080/"
        },
        "id": "pGVUyy-LZJc2",
        "outputId": "31f612a4-7ad3-43d1-dd57-1b35e703c3b1"
      },
      "execution_count": null,
      "outputs": [
        {
          "output_type": "execute_result",
          "data": {
            "text/plain": [
              "4"
            ]
          },
          "metadata": {},
          "execution_count": 55
        }
      ]
    },
    {
      "cell_type": "code",
      "source": [
        "#keys in the dictinary\n",
        "thisdict.keys()"
      ],
      "metadata": {
        "colab": {
          "base_uri": "https://localhost:8080/"
        },
        "id": "ra-QWPasaUpB",
        "outputId": "dbeb484a-6e7b-42ae-c080-c5c38d0b2828"
      },
      "execution_count": null,
      "outputs": [
        {
          "output_type": "execute_result",
          "data": {
            "text/plain": [
              "dict_keys(['Manoj', 'Ram', 'Vinay', 'Nikhil'])"
            ]
          },
          "metadata": {},
          "execution_count": 56
        }
      ]
    },
    {
      "cell_type": "code",
      "source": [
        "thisdict.values()"
      ],
      "metadata": {
        "colab": {
          "base_uri": "https://localhost:8080/"
        },
        "id": "w2HxVHpJaaYO",
        "outputId": "68419267-a933-48bb-c07d-a409b882fd22"
      },
      "execution_count": null,
      "outputs": [
        {
          "output_type": "execute_result",
          "data": {
            "text/plain": [
              "dict_values([76, 46, 56, 76])"
            ]
          },
          "metadata": {},
          "execution_count": 57
        }
      ]
    },
    {
      "cell_type": "code",
      "source": [
        "q = 'governament'\n",
        "q[7:]"
      ],
      "metadata": {
        "colab": {
          "base_uri": "https://localhost:8080/",
          "height": 35
        },
        "id": "N9-tHbQlafBa",
        "outputId": "d96bd41a-caaa-439d-a8bb-9f794728aefd"
      },
      "execution_count": null,
      "outputs": [
        {
          "output_type": "execute_result",
          "data": {
            "text/plain": [
              "'ment'"
            ],
            "application/vnd.google.colaboratory.intrinsic+json": {
              "type": "string"
            }
          },
          "metadata": {},
          "execution_count": 58
        }
      ]
    },
    {
      "cell_type": "code",
      "source": [
        "l1 = [i for i in range(0,100)]\n",
        "\n",
        "even = []\n",
        "odd = []\n",
        "for i in l1:\n",
        "  if i%2 == 0:\n",
        "    even.append(i+3)\n",
        "  if i%2 != 0:\n",
        "    odd.append(i+7)"
      ],
      "metadata": {
        "id": "1bFWmSLvbSDQ"
      },
      "execution_count": null,
      "outputs": []
    },
    {
      "cell_type": "code",
      "source": [
        "thisdict = {'Marks':20,'firstname':'Vinay','year':1998}"
      ],
      "metadata": {
        "id": "Be4tKOXJb2eo"
      },
      "execution_count": null,
      "outputs": []
    },
    {
      "cell_type": "code",
      "source": [
        "type(thisdict)"
      ],
      "metadata": {
        "colab": {
          "base_uri": "https://localhost:8080/"
        },
        "id": "17Q7SWWnVh_h",
        "outputId": "81865f0e-1c68-4817-e966-75cdc9b4622e"
      },
      "execution_count": null,
      "outputs": [
        {
          "output_type": "execute_result",
          "data": {
            "text/plain": [
              "dict"
            ]
          },
          "metadata": {},
          "execution_count": 2
        }
      ]
    },
    {
      "cell_type": "code",
      "source": [
        "thisdict.values()"
      ],
      "metadata": {
        "colab": {
          "base_uri": "https://localhost:8080/"
        },
        "id": "XhTBJVINVl3s",
        "outputId": "7b5da225-7f00-47da-8501-9b93ca07e15a"
      },
      "execution_count": null,
      "outputs": [
        {
          "output_type": "execute_result",
          "data": {
            "text/plain": [
              "dict_values([20, 'Vinay', 1998])"
            ]
          },
          "metadata": {},
          "execution_count": 4
        }
      ]
    },
    {
      "cell_type": "code",
      "source": [
        "thisdict.keys()"
      ],
      "metadata": {
        "colab": {
          "base_uri": "https://localhost:8080/"
        },
        "id": "FPRYXIpOWETC",
        "outputId": "60f02917-7167-450c-bf39-a41c8635922f"
      },
      "execution_count": null,
      "outputs": [
        {
          "output_type": "execute_result",
          "data": {
            "text/plain": [
              "dict_keys(['Marks', 'firstname', 'year'])"
            ]
          },
          "metadata": {},
          "execution_count": 5
        }
      ]
    },
    {
      "cell_type": "code",
      "source": [
        "thisdict['Marks']"
      ],
      "metadata": {
        "colab": {
          "base_uri": "https://localhost:8080/"
        },
        "id": "bwUL8MTWWKrM",
        "outputId": "c14854ac-0c58-4acc-a154-0f0a6952608d"
      },
      "execution_count": null,
      "outputs": [
        {
          "output_type": "execute_result",
          "data": {
            "text/plain": [
              "20"
            ]
          },
          "metadata": {},
          "execution_count": 7
        }
      ]
    },
    {
      "cell_type": "code",
      "source": [
        "thisdict['Marks'] = 80\n",
        "thisdict"
      ],
      "metadata": {
        "colab": {
          "base_uri": "https://localhost:8080/"
        },
        "id": "Z5bsn1quWNBq",
        "outputId": "3ae007b4-bb8e-46a5-dcce-c6071668d5a0"
      },
      "execution_count": null,
      "outputs": [
        {
          "output_type": "execute_result",
          "data": {
            "text/plain": [
              "{'Marks': 80, 'firstname': 'Vinay', 'year': 1998}"
            ]
          },
          "metadata": {},
          "execution_count": 8
        }
      ]
    },
    {
      "cell_type": "code",
      "source": [
        "thisdict.items() #retruns a tuple of key value pairs"
      ],
      "metadata": {
        "colab": {
          "base_uri": "https://localhost:8080/"
        },
        "id": "vIDQ01NKWbhL",
        "outputId": "07d7fa6d-03c5-4663-d1f7-d4c13e72af97"
      },
      "execution_count": null,
      "outputs": [
        {
          "output_type": "execute_result",
          "data": {
            "text/plain": [
              "dict_items([('Marks', 80), ('firstname', 'Vinay'), ('year', 1998)])"
            ]
          },
          "metadata": {},
          "execution_count": 10
        }
      ]
    },
    {
      "cell_type": "code",
      "source": [
        "for k,v in thisdict.items():\n",
        "  print (k)\n",
        "  print (v)"
      ],
      "metadata": {
        "colab": {
          "base_uri": "https://localhost:8080/"
        },
        "id": "omBWGxqXWh7T",
        "outputId": "d7b5d66e-9e32-4c64-8cb2-4ea5f461ac47"
      },
      "execution_count": null,
      "outputs": [
        {
          "output_type": "stream",
          "name": "stdout",
          "text": [
            "Marks\n",
            "80\n",
            "firstname\n",
            "Vinay\n",
            "year\n",
            "1998\n"
          ]
        }
      ]
    },
    {
      "cell_type": "code",
      "source": [
        "thisdict = {'marks_5_sunjects':[24,56,76,34,43],'Average':0,'Rank':1}"
      ],
      "metadata": {
        "id": "nmS93ab-XuHK"
      },
      "execution_count": null,
      "outputs": []
    },
    {
      "cell_type": "code",
      "source": [
        "thisdict"
      ],
      "metadata": {
        "colab": {
          "base_uri": "https://localhost:8080/"
        },
        "id": "eQHu0uqqY1Iu",
        "outputId": "98fbe2dc-2345-482c-b73a-9e80c76a8f55"
      },
      "execution_count": null,
      "outputs": [
        {
          "output_type": "execute_result",
          "data": {
            "text/plain": [
              "{'marks_5_sunjects': [24, 56, 76, 34, 43], 'Average': 0, 'Rank': 1}"
            ]
          },
          "metadata": {},
          "execution_count": 13
        }
      ]
    },
    {
      "cell_type": "code",
      "source": [
        "for k,v in thisdict.items():\n",
        "  if k == 'marks_5_sunjects':\n",
        "    sum = 0\n",
        "    for j in v:\n",
        "      sum += j\n",
        "    av = sum/len(v)\n",
        "  if k == 'Average':\n",
        "    thisdict[k] = av"
      ],
      "metadata": {
        "id": "lsqaEvzLY2WU"
      },
      "execution_count": null,
      "outputs": []
    },
    {
      "cell_type": "code",
      "source": [
        "thisdict"
      ],
      "metadata": {
        "colab": {
          "base_uri": "https://localhost:8080/"
        },
        "id": "ivgkvYG1ZYCP",
        "outputId": "536d2c14-e488-4fbc-921b-932f315e33aa"
      },
      "execution_count": null,
      "outputs": [
        {
          "output_type": "execute_result",
          "data": {
            "text/plain": [
              "{'marks_5_sunjects': [24, 56, 76, 34, 43], 'Average': 46.6, 'Rank': 1}"
            ]
          },
          "metadata": {},
          "execution_count": 15
        }
      ]
    },
    {
      "cell_type": "code",
      "source": [
        "'''\n",
        "Create a dictionary with keys as even_num_av and odd_num_av\n",
        "consider list of numbers from 1 to 100\n",
        "dict1 = {'even_num_av':....,'odd_num_av':......}\n",
        "'''"
      ],
      "metadata": {
        "id": "1XzUNXVSZZNP"
      },
      "execution_count": null,
      "outputs": []
    },
    {
      "cell_type": "code",
      "source": [
        "thisdict"
      ],
      "metadata": {
        "colab": {
          "base_uri": "https://localhost:8080/"
        },
        "id": "-ZAbiIdebXvp",
        "outputId": "71de986a-3d5b-42ab-dd01-180a592676df"
      },
      "execution_count": null,
      "outputs": [
        {
          "output_type": "execute_result",
          "data": {
            "text/plain": [
              "{'marks_5_sunjects': [24, 56, 76, 34, 43], 'Average': 46.6, 'Rank': 1}"
            ]
          },
          "metadata": {},
          "execution_count": 16
        }
      ]
    },
    {
      "cell_type": "code",
      "source": [
        "thisdict['height'] = 175"
      ],
      "metadata": {
        "id": "vMy5qJYmbYaH"
      },
      "execution_count": null,
      "outputs": []
    },
    {
      "cell_type": "code",
      "source": [
        "thisdict"
      ],
      "metadata": {
        "colab": {
          "base_uri": "https://localhost:8080/"
        },
        "id": "xSjZ1rGZbcP_",
        "outputId": "fc78b078-daf5-452a-8c22-0db6aad7179d"
      },
      "execution_count": null,
      "outputs": [
        {
          "output_type": "execute_result",
          "data": {
            "text/plain": [
              "{'marks_5_sunjects': [24, 56, 76, 34, 43],\n",
              " 'Average': 46.6,\n",
              " 'Rank': 1,\n",
              " 'height': 175}"
            ]
          },
          "metadata": {},
          "execution_count": 18
        }
      ]
    },
    {
      "cell_type": "code",
      "source": [
        "#to remove a key from dictinary\n",
        "thisdict.pop('height')"
      ],
      "metadata": {
        "colab": {
          "base_uri": "https://localhost:8080/"
        },
        "id": "P4_V0kmobdKL",
        "outputId": "ad7d62ab-5a92-4dec-8641-c21d661c3b1a"
      },
      "execution_count": null,
      "outputs": [
        {
          "output_type": "execute_result",
          "data": {
            "text/plain": [
              "175"
            ]
          },
          "metadata": {},
          "execution_count": 19
        }
      ]
    },
    {
      "cell_type": "code",
      "source": [
        "thisdict"
      ],
      "metadata": {
        "colab": {
          "base_uri": "https://localhost:8080/"
        },
        "id": "sARCkuWnbnmM",
        "outputId": "c3d75b5b-5cce-4ae2-e985-75fc099116d0"
      },
      "execution_count": null,
      "outputs": [
        {
          "output_type": "execute_result",
          "data": {
            "text/plain": [
              "{'marks_5_sunjects': [24, 56, 76, 34, 43], 'Average': 46.6, 'Rank': 1}"
            ]
          },
          "metadata": {},
          "execution_count": 20
        }
      ]
    },
    {
      "cell_type": "code",
      "source": [
        "## variants of for loops in dictionary\n",
        "for x in thisdict:\n",
        "  print (x)"
      ],
      "metadata": {
        "colab": {
          "base_uri": "https://localhost:8080/"
        },
        "id": "ddXwxidibo2u",
        "outputId": "a478b999-981b-4b41-c59f-6f849c424e50"
      },
      "execution_count": null,
      "outputs": [
        {
          "output_type": "stream",
          "name": "stdout",
          "text": [
            "marks_5_sunjects\n",
            "Average\n",
            "Rank\n"
          ]
        }
      ]
    },
    {
      "cell_type": "code",
      "source": [
        "## variants of for loops in dictionary\n",
        "for x in thisdict.keys():\n",
        "  print (x)"
      ],
      "metadata": {
        "colab": {
          "base_uri": "https://localhost:8080/"
        },
        "id": "c7WgowGFcdYL",
        "outputId": "50bbac74-a8f2-4cc1-905c-a814415beb2d"
      },
      "execution_count": null,
      "outputs": [
        {
          "output_type": "stream",
          "name": "stdout",
          "text": [
            "marks_5_sunjects\n",
            "Average\n",
            "Rank\n"
          ]
        }
      ]
    },
    {
      "cell_type": "code",
      "source": [
        "## variants of for loops in dictionary\n",
        "for x in thisdict.values():\n",
        "  print (x)"
      ],
      "metadata": {
        "colab": {
          "base_uri": "https://localhost:8080/"
        },
        "id": "TgYkXUUQcgTM",
        "outputId": "89d0f1fb-a57b-4d08-dd65-63ff595ecfb9"
      },
      "execution_count": null,
      "outputs": [
        {
          "output_type": "stream",
          "name": "stdout",
          "text": [
            "[24, 56, 76, 34, 43]\n",
            "46.6\n",
            "1\n"
          ]
        }
      ]
    },
    {
      "cell_type": "code",
      "source": [
        "## variants of for loops in dictionary\n",
        "for x,y in thisdict.items():\n",
        "  print (x)\n",
        "  print (y)"
      ],
      "metadata": {
        "colab": {
          "base_uri": "https://localhost:8080/"
        },
        "id": "bvWrrd9bciNr",
        "outputId": "a93f8d84-93ec-4b4e-dd9e-2aab2ec0bfff"
      },
      "execution_count": null,
      "outputs": [
        {
          "output_type": "stream",
          "name": "stdout",
          "text": [
            "marks_5_sunjects\n",
            "[24, 56, 76, 34, 43]\n",
            "Average\n",
            "46.6\n",
            "Rank\n",
            "1\n"
          ]
        }
      ]
    },
    {
      "cell_type": "code",
      "source": [
        "friends = {'Vinay':{'Age':24,'height':156},'Rajesh':{'Age':26,'height':166},'Yesh':{'Age':28,'height':176}}"
      ],
      "metadata": {
        "id": "FOaDSjS0clxQ"
      },
      "execution_count": null,
      "outputs": []
    },
    {
      "cell_type": "code",
      "source": [
        "friends"
      ],
      "metadata": {
        "colab": {
          "base_uri": "https://localhost:8080/"
        },
        "id": "MZ8vweOBdZd0",
        "outputId": "b3d6afe3-cd1d-487f-f05e-067fa795e0fd"
      },
      "execution_count": null,
      "outputs": [
        {
          "output_type": "execute_result",
          "data": {
            "text/plain": [
              "{'Vinay': {'Age': 24, 'height': 156},\n",
              " 'Rajesh': {'Age': 26, 'height': 166},\n",
              " 'Yesh': {'Age': 28, 'height': 176}}"
            ]
          },
          "metadata": {},
          "execution_count": 26
        }
      ]
    },
    {
      "cell_type": "code",
      "source": [
        "friends.keys()"
      ],
      "metadata": {
        "colab": {
          "base_uri": "https://localhost:8080/"
        },
        "id": "4fz-VYfOdaDq",
        "outputId": "fd428ab9-82f6-44d7-affb-1f0c301292fa"
      },
      "execution_count": null,
      "outputs": [
        {
          "output_type": "execute_result",
          "data": {
            "text/plain": [
              "dict_keys(['Vinay', 'Rajesh', 'Yesh'])"
            ]
          },
          "metadata": {},
          "execution_count": 27
        }
      ]
    },
    {
      "cell_type": "code",
      "source": [
        "friends.values()"
      ],
      "metadata": {
        "colab": {
          "base_uri": "https://localhost:8080/"
        },
        "id": "g5ZkfDcEeMss",
        "outputId": "1a4f8c04-1b53-4a7e-848a-a42cc2a1e065"
      },
      "execution_count": null,
      "outputs": [
        {
          "output_type": "execute_result",
          "data": {
            "text/plain": [
              "dict_values([{'Age': 24, 'height': 156}, {'Age': 26, 'height': 166}, {'Age': 28, 'height': 176}])"
            ]
          },
          "metadata": {},
          "execution_count": 29
        }
      ]
    },
    {
      "cell_type": "code",
      "source": [
        "friends['Rajesh']"
      ],
      "metadata": {
        "colab": {
          "base_uri": "https://localhost:8080/"
        },
        "id": "7mf2qoKheN9P",
        "outputId": "b766f9b7-cbab-41ac-e9dc-63386905c37c"
      },
      "execution_count": null,
      "outputs": [
        {
          "output_type": "execute_result",
          "data": {
            "text/plain": [
              "{'Age': 26, 'height': 166}"
            ]
          },
          "metadata": {},
          "execution_count": 32
        }
      ]
    },
    {
      "cell_type": "code",
      "source": [
        "friends['Rajesh']['Age']"
      ],
      "metadata": {
        "colab": {
          "base_uri": "https://localhost:8080/"
        },
        "id": "7iObTpRTeUBV",
        "outputId": "64844aa0-bede-4d53-f4ca-d125f82002e4"
      },
      "execution_count": null,
      "outputs": [
        {
          "output_type": "execute_result",
          "data": {
            "text/plain": [
              "26"
            ]
          },
          "metadata": {},
          "execution_count": 33
        }
      ]
    },
    {
      "cell_type": "code",
      "source": [
        "'''\n",
        "https://pynative.com/python-dictionary-exercise-with-solutions/\n",
        "'''"
      ],
      "metadata": {
        "id": "3pJ-98KRfMVx"
      },
      "execution_count": null,
      "outputs": []
    },
    {
      "cell_type": "markdown",
      "source": [
        "## If_Else_Condition"
      ],
      "metadata": {
        "id": "pE7QHdjPen7h"
      }
    },
    {
      "cell_type": "code",
      "source": [
        "a = 33\n",
        "b = 200\n",
        "\n",
        "if b > a:\n",
        "  print ('hi')"
      ],
      "metadata": {
        "id": "s8AvPTWgeZ8Q",
        "colab": {
          "base_uri": "https://localhost:8080/"
        },
        "outputId": "7bcda2db-5085-4f6a-e70b-0aaa4aa4f315"
      },
      "execution_count": null,
      "outputs": [
        {
          "output_type": "stream",
          "name": "stdout",
          "text": [
            "hi\n"
          ]
        }
      ]
    },
    {
      "cell_type": "code",
      "source": [
        "a = 33\n",
        "b = 33\n",
        "\n",
        "if b > a:\n",
        "  print ('hi')\n",
        "elif b == a:\n",
        "  print ('hello')\n",
        "else:\n",
        "  print ('world')"
      ],
      "metadata": {
        "colab": {
          "base_uri": "https://localhost:8080/"
        },
        "id": "cmCFJrquf65c",
        "outputId": "09779c7c-256d-4f47-a9db-173074d2f1a0"
      },
      "execution_count": null,
      "outputs": [
        {
          "output_type": "stream",
          "name": "stdout",
          "text": [
            "hello\n"
          ]
        }
      ]
    },
    {
      "cell_type": "code",
      "source": [
        "'''\n",
        "a = 200\n",
        "b = 33\n",
        "\n",
        "a > b : \"a is greater than b\"\n",
        "a < b : \"a is less than b\"\n",
        "else: \"a is equal to b\"\n",
        "'''\n"
      ],
      "metadata": {
        "id": "UXccllu8gcRI"
      },
      "execution_count": null,
      "outputs": []
    },
    {
      "cell_type": "code",
      "source": [
        "if a > b:\n",
        "  print (\"a is greater than b\")\n",
        "elif a < b:\n",
        "  print (\"a is less than b\")\n",
        "elif a == b:\n",
        "  print (\"a is equal to b\")"
      ],
      "metadata": {
        "colab": {
          "base_uri": "https://localhost:8080/"
        },
        "id": "zWFEavnmhOgZ",
        "outputId": "66f8c90c-0829-4d23-e700-4ead7551dbe6"
      },
      "execution_count": null,
      "outputs": [
        {
          "output_type": "stream",
          "name": "stdout",
          "text": [
            "a is equal to b\n"
          ]
        }
      ]
    },
    {
      "cell_type": "code",
      "source": [
        "if a > b:\n",
        "  print (\"a is greater than b\")\n",
        "elif a < b:\n",
        "  print (\"a is less than b\")\n",
        "else:\n",
        "  print (\"a is equal to b\")"
      ],
      "metadata": {
        "colab": {
          "base_uri": "https://localhost:8080/"
        },
        "id": "k3XfyGE7hZ54",
        "outputId": "599f73e8-9355-4b73-e85e-f197410ec21c"
      },
      "execution_count": null,
      "outputs": [
        {
          "output_type": "stream",
          "name": "stdout",
          "text": [
            "a is equal to b\n"
          ]
        }
      ]
    },
    {
      "cell_type": "code",
      "source": [
        "# short hand notation\n",
        "a = 2\n",
        "b = 330\n",
        "\n",
        "print (a) if a > b else print (b)"
      ],
      "metadata": {
        "colab": {
          "base_uri": "https://localhost:8080/"
        },
        "id": "Omh5O0qHhdZx",
        "outputId": "f2d0144e-aff9-404e-9f1a-65bba0fafd12"
      },
      "execution_count": null,
      "outputs": [
        {
          "output_type": "stream",
          "name": "stdout",
          "text": [
            "330\n"
          ]
        }
      ]
    },
    {
      "cell_type": "code",
      "source": [
        "a = 200\n",
        "b = 33\n",
        "c = 500\n",
        "\n",
        "if a>b and a>c:\n",
        "  print ('hi')"
      ],
      "metadata": {
        "id": "E2LHIOihiBJU"
      },
      "execution_count": null,
      "outputs": []
    },
    {
      "cell_type": "code",
      "source": [
        "if a>b or a>c:\n",
        "  print ('hi')"
      ],
      "metadata": {
        "colab": {
          "base_uri": "https://localhost:8080/"
        },
        "id": "4HfXFd8giUmc",
        "outputId": "9d6a03b0-d8d4-4e14-eaec-3e4255995c71"
      },
      "execution_count": null,
      "outputs": [
        {
          "output_type": "stream",
          "name": "stdout",
          "text": [
            "hi\n"
          ]
        }
      ]
    },
    {
      "cell_type": "code",
      "source": [
        "a = 33\n",
        "b = 200\n",
        "\n",
        "if not a > b:\n",
        "  print ('hi')"
      ],
      "metadata": {
        "colab": {
          "base_uri": "https://localhost:8080/"
        },
        "id": "k8rl9IXIibyO",
        "outputId": "308070bd-6368-4e46-c3b6-c4f864d02bae"
      },
      "execution_count": null,
      "outputs": [
        {
          "output_type": "stream",
          "name": "stdout",
          "text": [
            "hi\n"
          ]
        }
      ]
    },
    {
      "cell_type": "code",
      "source": [
        "#nested if\n",
        "\n",
        "x = 41\n",
        "\n",
        "if x > 10:\n",
        "  if x > 20:\n",
        "    if x > 30:\n",
        "      print ('hi')"
      ],
      "metadata": {
        "colab": {
          "base_uri": "https://localhost:8080/"
        },
        "id": "voiscqj1ivU5",
        "outputId": "b49b93a8-0c92-4b75-f224-71ff0c81060a"
      },
      "execution_count": null,
      "outputs": [
        {
          "output_type": "stream",
          "name": "stdout",
          "text": [
            "hi\n"
          ]
        }
      ]
    },
    {
      "cell_type": "code",
      "source": [
        "#nested if\n",
        "\n",
        "x = 15\n",
        "\n",
        "if x > 10:\n",
        "  if x > 20:\n",
        "    if x > 30:\n",
        "      print ('hi')\n",
        "  else:\n",
        "    print ('world')"
      ],
      "metadata": {
        "colab": {
          "base_uri": "https://localhost:8080/"
        },
        "id": "nTy_7Ve1ji6N",
        "outputId": "549646d3-e146-4a55-9583-1c787702f233"
      },
      "execution_count": null,
      "outputs": [
        {
          "output_type": "stream",
          "name": "stdout",
          "text": [
            "world\n"
          ]
        }
      ]
    },
    {
      "cell_type": "code",
      "source": [
        "#nested if\n",
        "\n",
        "x = 15\n",
        "\n",
        "if x > 10:\n",
        "  if x > 20:\n",
        "    pass\n",
        "  else:\n",
        "    print ('world')\n",
        "    if x > 30:\n",
        "      print ('hi')"
      ],
      "metadata": {
        "colab": {
          "base_uri": "https://localhost:8080/"
        },
        "id": "ZJPyEyDDj9BD",
        "outputId": "29da443c-a388-49a9-92ef-7e3a1b181bf8"
      },
      "execution_count": null,
      "outputs": [
        {
          "output_type": "stream",
          "name": "stdout",
          "text": [
            "world\n"
          ]
        }
      ]
    },
    {
      "cell_type": "code",
      "source": [
        "'''\n",
        "dict1 = {'Ram':14,'Ravi':42,'Vinay':76,'Reshma':25}\n",
        "\n",
        "stundents who has marks between 40 to 80\n",
        "\n",
        "'''"
      ],
      "metadata": {
        "id": "WNML0Vc0k47L"
      },
      "execution_count": null,
      "outputs": []
    },
    {
      "cell_type": "code",
      "source": [
        "dict1 = {'Ram':14,'Ravi':42,'Vinay':76,'Reshma':25}\n",
        "\n",
        "for k,v in dict1.items():\n",
        "  if v > 40 and v < 80:\n",
        "    print(k)"
      ],
      "metadata": {
        "colab": {
          "base_uri": "https://localhost:8080/"
        },
        "id": "fS7GjUHYmSRP",
        "outputId": "a79a8fcf-7163-4d5d-ecce-4c4d3c7a2b7a"
      },
      "execution_count": null,
      "outputs": [
        {
          "output_type": "stream",
          "name": "stdout",
          "text": [
            "Ravi\n",
            "Vinay\n"
          ]
        }
      ]
    },
    {
      "cell_type": "code",
      "source": [
        "l1 = [i for i in range(500)]\n",
        "l2 = [i for i in range(501,1000)]\n",
        "\n",
        "dict1 = {'range1':l1,'range2':l2}"
      ],
      "metadata": {
        "id": "xG_cg0WamoxL"
      },
      "execution_count": null,
      "outputs": []
    },
    {
      "cell_type": "markdown",
      "source": [
        "## while loops"
      ],
      "metadata": {
        "id": "sOxwU2sypTiL"
      }
    },
    {
      "cell_type": "code",
      "source": [
        "'''\n",
        "while loop that print i from 0 to 6\n",
        "'''\n",
        "\n",
        "i = 0\n",
        "\n",
        "while i < 6:\n",
        "  print (i)\n",
        "  if i == 3:\n",
        "    break\n",
        "  i = i + 1"
      ],
      "metadata": {
        "colab": {
          "base_uri": "https://localhost:8080/"
        },
        "id": "B0KczVVqou50",
        "outputId": "6b97d251-6d2d-4143-b8c4-f20c012bcd35"
      },
      "execution_count": null,
      "outputs": [
        {
          "output_type": "stream",
          "name": "stdout",
          "text": [
            "0\n",
            "1\n",
            "2\n",
            "3\n"
          ]
        }
      ]
    },
    {
      "cell_type": "code",
      "source": [
        "i =0\n",
        "while i < 6:\n",
        "  print (i)\n",
        "  if i == 3:\n",
        "    continue\n",
        "  i = i + 1"
      ],
      "metadata": {
        "colab": {
          "base_uri": "https://localhost:8080/"
        },
        "id": "OpxxHyHep__F",
        "outputId": "6d229f34-2047-4b46-af62-41f36bafed17"
      },
      "execution_count": null,
      "outputs": [
        {
          "output_type": "stream",
          "name": "stdout",
          "text": [
            "0\n",
            "1\n",
            "2\n",
            "3\n",
            "4\n",
            "5\n"
          ]
        }
      ]
    },
    {
      "cell_type": "code",
      "source": [
        "i =0\n",
        "while i < 6:\n",
        "  print (i)\n",
        "  i = i + 1\n",
        "  if i == 3:\n",
        "    continue"
      ],
      "metadata": {
        "colab": {
          "base_uri": "https://localhost:8080/"
        },
        "id": "SWX12_MLrKVS",
        "outputId": "e4da12a5-3a56-4ae4-c70c-fbebafc0b230"
      },
      "execution_count": null,
      "outputs": [
        {
          "output_type": "stream",
          "name": "stdout",
          "text": [
            "0\n",
            "1\n",
            "2\n",
            "3\n",
            "4\n",
            "5\n"
          ]
        }
      ]
    },
    {
      "cell_type": "code",
      "source": [
        "l1 = ['apple','banana','cherry']\n",
        "\n",
        "for x in l1:\n",
        "  if x == 'banana':\n",
        "    break\n",
        "  else:\n",
        "    print(x)"
      ],
      "metadata": {
        "colab": {
          "base_uri": "https://localhost:8080/"
        },
        "id": "A99Qcw2YsVe_",
        "outputId": "fb6914e6-35dc-4637-dc03-f8e58246ea00"
      },
      "execution_count": null,
      "outputs": [
        {
          "output_type": "stream",
          "name": "stdout",
          "text": [
            "apple\n"
          ]
        }
      ]
    },
    {
      "cell_type": "code",
      "source": [
        "l1 = [i for i in range(0,100,3)]"
      ],
      "metadata": {
        "id": "c8r7NYVwtV6K"
      },
      "execution_count": null,
      "outputs": []
    }
  ],
  "metadata": {
    "colab": {
      "provenance": []
    },
    "kernelspec": {
      "display_name": "Python 3",
      "name": "python3"
    },
    "language_info": {
      "name": "python"
    }
  },
  "nbformat": 4,
  "nbformat_minor": 0
}